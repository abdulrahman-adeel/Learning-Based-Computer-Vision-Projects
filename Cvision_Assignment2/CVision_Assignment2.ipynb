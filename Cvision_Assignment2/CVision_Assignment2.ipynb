{
 "cells": [
  {
   "cell_type": "markdown",
   "metadata": {},
   "source": [
    "------------------\n",
    "# Name : Abdelrahman Basha\n",
    "------------------"
   ]
  },
  {
   "cell_type": "markdown",
   "metadata": {},
   "source": [
    "## Importing required libraries"
   ]
  },
  {
   "cell_type": "code",
   "execution_count": 1,
   "metadata": {},
   "outputs": [],
   "source": [
    "#importing libraries\n",
    "\n",
    "import os\n",
    "import numpy as np\n",
    "import pandas as pd\n",
    "from time import time\n",
    "from skimage import io\n",
    "import seaborn as sns\n",
    "from skimage import exposure\n",
    "import matplotlib.pyplot as plt\n",
    "from itertools import combinations\n",
    "from skimage.transform import resize\n",
    "from sklearn.neural_network import MLPClassifier\n",
    "from sklearn.model_selection import train_test_split\n",
    "from sklearn.metrics import accuracy_score,precision_score,recall_score,f1_score\n",
    "from sklearn.metrics import confusion_matrix,plot_confusion_matrix,classification_report,accuracy_score\n"
   ]
  },
  {
   "cell_type": "markdown",
   "metadata": {},
   "source": [
    "## Reading the Folders "
   ]
  },
  {
   "cell_type": "code",
   "execution_count": 2,
   "metadata": {
    "scrolled": true
   },
   "outputs": [],
   "source": [
    "os.listdir(path='.')\n",
    "\n",
    "def getListOfFiles(dirName):\n",
    "    \n",
    "    listOfFile = os.listdir(dirName)\n",
    "    allFiles = list()\n",
    "    \n",
    "    for i in listOfFile:\n",
    "        fullPath = os.path.join(dirName, i)\n",
    "        if os.path.isdir(fullPath):\n",
    "            allFiles = allFiles + getListOfFiles(fullPath)\n",
    "        else:\n",
    "            allFiles.append(fullPath)\n",
    "                \n",
    "    return allFiles        \n",
    "\n",
    "\n",
    "dirName1 ='texture/training'\n",
    "dirName2 ='texture/testing'\n",
    "\n",
    "listOfFiles1 = getListOfFiles(dirName1)\n",
    "\n",
    "listOfFiles1 = list()\n",
    "for (dirpath, dirnames, filenames) in os.walk(dirName1):\n",
    "    listOfFiles1 += [os.path.join(dirpath, file) for file in filenames]\n",
    "\n",
    "    \n",
    "listOfFiles2 = getListOfFiles(dirName2)\n",
    "\n",
    "listOfFiles2 = list()\n",
    "for (dirpath, dirnames, filenames) in os.walk(dirName2):\n",
    "    listOfFiles2 += [os.path.join(dirpath, file) for file in filenames]\n",
    "    \n",
    "\n",
    "#     for i in listOfFiles1:\n",
    "#         print(i)    "
   ]
  },
  {
   "cell_type": "markdown",
   "metadata": {},
   "source": [
    "## Reading the images for preproccesing"
   ]
  },
  {
   "cell_type": "code",
   "execution_count": 3,
   "metadata": {},
   "outputs": [],
   "source": [
    "#Pairs for training folder\n",
    "pairs1 = list(combinations(listOfFiles1, 2))\n",
    "\n",
    "#pairs for testing folder\n",
    "pairs2 = list(combinations(listOfFiles2, 2))"
   ]
  },
  {
   "cell_type": "code",
   "execution_count": 4,
   "metadata": {},
   "outputs": [],
   "source": [
    "#print(pairs1)"
   ]
  },
  {
   "cell_type": "code",
   "execution_count": 5,
   "metadata": {},
   "outputs": [],
   "source": [
    "pictures_for_training_mlp = {}\n",
    "pictures_for_training_mlp_Fengineering = {}\n",
    "\n",
    "for i in listOfFiles1:\n",
    "    # for MLP model\n",
    "    pictures_for_training_mlp[i]= resize(io.imread(i), (32,32))\n",
    "    \n",
    "    pictures_for_training_mlp[i]=pictures_for_training_mlp[i].reshape(32*32) \n",
    "    \n",
    "    # for feature engineering later\n",
    "    pictures_for_training_mlp_Fengineering[i]= resize(io.imread(i), (4,4)) \n",
    "    \n",
    "    pictures_for_training_mlp_Fengineering[i]=exposure.equalize_hist(pictures_for_training_mlp_Fengineering[i].reshape(4*4))\n",
    "\n",
    "    \n",
    "    \n",
    "imgs_flattened_mlp = [[pictures_for_training_mlp[file1], pictures_for_training_mlp[file2]] for file1, file2 in pairs1]\n",
    "\n",
    "imgs_flattened_mlp_Fengineering = [[pictures_for_training_mlp_Fengineering[file1], pictures_for_training_mlp_Fengineering[file2]] for file1, file2 in pairs1]\n",
    "\n",
    "imgs_flattened_mlp = np.array(imgs_flattened_mlp)\n",
    "\n",
    "imgs_flattened_mlp_Fengineering = np.array(imgs_flattened_mlp_Fengineering)\n",
    "\n",
    "\n",
    "\n",
    "#imgs = imgs.reshape(imgs.shape[0] ,-1) \n",
    "imgs_flattened_mlp = imgs_flattened_mlp.reshape(imgs_flattened_mlp.shape[0] ,2*32*32) \n",
    "\n",
    "imgs_flattened_mlp_Fengineering = imgs_flattened_mlp_Fengineering.reshape(imgs_flattened_mlp_Fengineering.shape[0] ,2*4*4) "
   ]
  },
  {
   "cell_type": "code",
   "execution_count": 6,
   "metadata": {},
   "outputs": [
    {
     "name": "stdout",
     "output_type": "stream",
     "text": [
      "Shape of Feature engineered images to check for the 32 features : (16110, 32)\n"
     ]
    }
   ],
   "source": [
    "print('Shape of Feature engineered images to check for the 32 features :',imgs_flattened_mlp_Fengineering.shape)"
   ]
  },
  {
   "cell_type": "code",
   "execution_count": 7,
   "metadata": {},
   "outputs": [],
   "source": [
    "# for image matching function\n",
    "\n",
    "pictures_for_training_imgMat = {}\n",
    "pictures_for_training_imgMat_FE = {}\n",
    "\n",
    "for i in listOfFiles1:\n",
    "    pictures_for_training_imgMat[i]= resize(io.imread(i), (32,32))\n",
    "    \n",
    "    pictures_for_training_imgMat_FE[i]= resize(io.imread(i), (4,4))\n",
    "    pictures_for_training_imgMat_FE[i]=exposure.equalize_hist(pictures_for_training_imgMat_FE[i])\n",
    "    \n",
    "imgs_notflattened=[[pictures_for_training_imgMat[file1], pictures_for_training_imgMat[file2]] for file1, file2 in pairs1]\n",
    "\n",
    "imgs_notflattened_FE=[[pictures_for_training_imgMat_FE[file1], pictures_for_training_imgMat_FE[file2]] for file1, file2 in pairs1]\n",
    "\n",
    "imgs_notflattened = np.array(imgs_notflattened)\n",
    "\n",
    "imgs_notflattened_FE = np.array(imgs_notflattened_FE)\n"
   ]
  },
  {
   "cell_type": "code",
   "execution_count": 8,
   "metadata": {},
   "outputs": [],
   "source": [
    "#Preparing label \n",
    "\n",
    "y_label = []\n",
    "\n",
    "for imga,imgb in pairs1:\n",
    "    if os.path.dirname(imga) == os.path.dirname(imgb):\n",
    "        y_label.append(1)\n",
    "    else:\n",
    "        y_label.append(0)\n",
    "        "
   ]
  },
  {
   "cell_type": "markdown",
   "metadata": {},
   "source": [
    "## Defining a function for subsampling the dataset\n",
    "\n",
    "### as it gave me bad recall 0 for class and 100% for the other in my first try ."
   ]
  },
  {
   "cell_type": "code",
   "execution_count": 9,
   "metadata": {},
   "outputs": [],
   "source": [
    "def balanced_subsample(x,y,subsample_size=1.0):\n",
    "\n",
    "    class_xs = []\n",
    "    min_elems = None\n",
    "\n",
    "    for yi in np.unique(y):\n",
    "        elems = x[(y == yi)]\n",
    "        class_xs.append((yi, elems))\n",
    "        if min_elems == None or elems.shape[0] < min_elems:\n",
    "            min_elems = elems.shape[0]\n",
    "\n",
    "    use_elems = min_elems\n",
    "    if subsample_size < 1:\n",
    "        use_elems = int(min_elems*subsample_size)\n",
    "\n",
    "    xs = []\n",
    "    ys = []\n",
    "\n",
    "    for ci,this_xs in class_xs:\n",
    "        if len(this_xs) > use_elems:\n",
    "            np.random.shuffle(this_xs)\n",
    "\n",
    "        x_ = this_xs[:use_elems]\n",
    "        y_ = np.empty(use_elems)\n",
    "        y_.fill(ci)\n",
    "\n",
    "        xs.append(x_)\n",
    "        ys.append(y_)\n",
    "\n",
    "    xs = np.concatenate(xs)\n",
    "    ys = np.concatenate(ys)\n",
    "\n",
    "    return xs,ys"
   ]
  },
  {
   "cell_type": "markdown",
   "metadata": {},
   "source": [
    "# 1.3 Image matching"
   ]
  },
  {
   "cell_type": "code",
   "execution_count": 10,
   "metadata": {},
   "outputs": [],
   "source": [
    "imgs_notflattened,y_label_match=balanced_subsample(imgs_notflattened,y_label)"
   ]
  },
  {
   "cell_type": "code",
   "execution_count": 11,
   "metadata": {},
   "outputs": [],
   "source": [
    "#splitting data for Image matching simple classifer\n",
    "\n",
    "X1_train, X1_valid, y1_train, y1_valid = train_test_split(imgs_notflattened,y_label_match, train_size=0.7, random_state=42, stratify=y_label_match)"
   ]
  },
  {
   "cell_type": "markdown",
   "metadata": {},
   "source": [
    "### Defining the functions"
   ]
  },
  {
   "cell_type": "code",
   "execution_count": 12,
   "metadata": {},
   "outputs": [],
   "source": [
    "def MatchingImages(imgA,imgB,method='cc',normalize='false'):\n",
    "    \n",
    "    if normalize == 'true':\n",
    "        imgA = (imgA - np.mean(imgA))/np.std(imgA)\n",
    "        \n",
    "    if (method == 'cc'):\n",
    "        cc = 0       \n",
    "        for x in range ( len( imgA )   ):\n",
    "            for y in range ( len ( imgA[x] ) ):              \n",
    "                cc += imgA[x][y]*imgB[x][y]         \n",
    "        return cc \n",
    "    \n",
    "    \n",
    "    elif (method == 'conv'):\n",
    "        conv_imageA =  np.flip(  np.flip( imgA , axis = 0 ) , axis = 1   )                    \n",
    "        conv = 0 ;       \n",
    "        for x in range ( len( conv_imageA )   ):\n",
    "            for y in range ( len ( conv_imageA[x] ) ):              \n",
    "                conv += conv_imageA[x][y]*imgB[x][y]         \n",
    "        return conv  \n",
    "    \n",
    "    \n",
    "    \n",
    "    elif (method == 'ssd'):\n",
    "        ssd = 0 ;       \n",
    "        for x in range ( len( imgA )   ):\n",
    "            for y in range ( len ( imgA[x] ) ):              \n",
    "                ssd  += np.square( imgA[x][y] - imgB[x][y] )          \n",
    "        return ssd"
   ]
  },
  {
   "cell_type": "markdown",
   "metadata": {},
   "source": [
    "#### or using this function"
   ]
  },
  {
   "cell_type": "code",
   "execution_count": 13,
   "metadata": {},
   "outputs": [],
   "source": [
    "# def MatchingImages(imgA,imgB,method='cc',normalize='false'):\n",
    "    \n",
    "#     if normalize == 'true':\n",
    "#         imgA = (imgA - np.mean(imgA))/np.std(imgA)\n",
    "        \n",
    "#     if (method == 'cc'):\n",
    "#         return np.sum(imgA * imgB)\n",
    "    \n",
    "#     elif (method == 'conv'):\n",
    "#         return np.sum(np.flip(np.flip(imgA, axis=0), axis=1) * imgB)\n",
    "    \n",
    "#     elif (method == 'ssd'):\n",
    "#         return np.sum(np.power((imgA - imgB), 2))"
   ]
  },
  {
   "cell_type": "code",
   "execution_count": 14,
   "metadata": {},
   "outputs": [
    {
     "name": "stdout",
     "output_type": "stream",
     "text": [
      "Threshold of training : 0.6449919721205272\n"
     ]
    }
   ],
   "source": [
    "scores_cc_normalized_valid=[]\n",
    "scores_cc_normalized_train=[]\n",
    "\n",
    "for i1,i2 in X1_valid:\n",
    "    scores_cc_normalized_valid.append(MatchingImages(i1,i2,'cc','true'))\n",
    "    \n",
    "for i1,i2 in X1_train:\n",
    "    scores_cc_normalized_train.append(MatchingImages(i1,i2,'cc','true'))\n",
    "    \n",
    "\n",
    "print('Threshold of training :',np.median(scores_cc_normalized_train) )\n"
   ]
  },
  {
   "cell_type": "code",
   "execution_count": 15,
   "metadata": {
    "scrolled": true
   },
   "outputs": [
    {
     "name": "stdout",
     "output_type": "stream",
     "text": [
      "Threshold of training : 250.00811803152666\n"
     ]
    }
   ],
   "source": [
    "scores_cc_non_valid=[]\n",
    "scores_cc_non_train=[]\n",
    "\n",
    "for i1,i2 in X1_valid:\n",
    "    scores_cc_non_valid.append( MatchingImages(i1,i2) )   \n",
    "\n",
    "for i1,i2 in X1_train:\n",
    "    scores_cc_non_train.append( MatchingImages(i1,i2) )   \n",
    "\n",
    "\n",
    "\n",
    "print('Threshold of training :',np.median(scores_cc_non_train) )"
   ]
  },
  {
   "cell_type": "code",
   "execution_count": 16,
   "metadata": {},
   "outputs": [
    {
     "name": "stdout",
     "output_type": "stream",
     "text": [
      "Threshold of training : -0.34840621766586277\n"
     ]
    }
   ],
   "source": [
    "scores_conv_normalized_valid=[]\n",
    "scores_conv_normalized_train=[]\n",
    "\n",
    "for i1,i2 in X1_valid:\n",
    "    scores_conv_normalized_valid.append(MatchingImages(i1,i2,'conv','true'))\n",
    "\n",
    "for i1,i2 in X1_train:\n",
    "    scores_conv_normalized_train.append( MatchingImages(i1,i2,'conv','true') )\n",
    "    \n",
    "    \n",
    "print('Threshold of training :',np.median(scores_conv_normalized_train) )"
   ]
  },
  {
   "cell_type": "code",
   "execution_count": 17,
   "metadata": {},
   "outputs": [
    {
     "name": "stdout",
     "output_type": "stream",
     "text": [
      "Threshold of training : 249.96324586697418\n"
     ]
    }
   ],
   "source": [
    "scores_conv_non_valid=[]\n",
    "scores_conv_non_train=[]\n",
    "\n",
    "for i1,i2 in X1_valid:\n",
    "    scores_conv_non_valid.append(MatchingImages(i1,i2,method='conv'))\n",
    "\n",
    "for i1,i2 in X1_train:\n",
    "    scores_conv_non_train.append(MatchingImages(i1,i2,method='conv'))\n",
    "    \n",
    "print('Threshold of training :',np.median(scores_conv_non_train) )\n"
   ]
  },
  {
   "cell_type": "code",
   "execution_count": 18,
   "metadata": {},
   "outputs": [
    {
     "name": "stdout",
     "output_type": "stream",
     "text": [
      "Threshold of training : 1275.913388931837\n"
     ]
    }
   ],
   "source": [
    "scores_ssd_normalized_valid=[]\n",
    "scores_ssd_normalized_train=[]\n",
    "\n",
    "for i1,i2 in X1_valid:\n",
    "    scores_ssd_normalized_valid.append(MatchingImages(i1,i2,'ssd','true'))\n",
    "\n",
    "for i1,i2 in X1_train:\n",
    "    scores_ssd_normalized_train.append(MatchingImages(i1,i2,'ssd','true'))\n",
    "    \n",
    "print('Threshold of training :',np.median( scores_ssd_normalized_train) )\n"
   ]
  },
  {
   "cell_type": "code",
   "execution_count": 19,
   "metadata": {},
   "outputs": [
    {
     "name": "stdout",
     "output_type": "stream",
     "text": [
      "Threshold of training : 7.573379469434844\n"
     ]
    }
   ],
   "source": [
    "scores_ssd_non_valid=[]\n",
    "scores_ssd_non_train=[]\n",
    "\n",
    "for i1,i2 in X1_valid:\n",
    "    scores_ssd_non_valid.append(MatchingImages(i1,i2,method='ssd') )\n",
    "\n",
    "for i1,i2 in X1_train:\n",
    "    scores_ssd_non_train.append(MatchingImages(i1,i2,method='ssd') )\n",
    "                          \n",
    "print('Threshold of training :',np.median(scores_ssd_non_train) )\n"
   ]
  },
  {
   "cell_type": "markdown",
   "metadata": {},
   "source": [
    "## Here i used the threshold using the median of cross-correlation with normalization scores as it gave the best accuracy, recall and precision compared to others"
   ]
  },
  {
   "cell_type": "code",
   "execution_count": 20,
   "metadata": {},
   "outputs": [],
   "source": [
    "y_pred=[]\n",
    "#< >\n",
    "threshold_training=np.median(scores_cc_normalized_train)\n",
    "\n",
    "for x in range( len( X1_valid ) ):\n",
    "\n",
    "    if scores_cc_normalized_valid[x] > threshold_training:\n",
    "        y_pred.append(1)\n",
    "    else:\n",
    "        y_pred.append(0)     "
   ]
  },
  {
   "cell_type": "code",
   "execution_count": 21,
   "metadata": {},
   "outputs": [
    {
     "name": "stdout",
     "output_type": "stream",
     "text": [
      "\n",
      "Classification Report  : \n",
      "\n",
      "              precision    recall  f1-score   support\n",
      "\n",
      "         0.0       0.56      0.59      0.57       784\n",
      "         1.0       0.57      0.54      0.55       783\n",
      "\n",
      "    accuracy                           0.56      1567\n",
      "   macro avg       0.56      0.56      0.56      1567\n",
      "weighted avg       0.56      0.56      0.56      1567\n",
      "\n"
     ]
    },
    {
     "data": {
      "image/png": "[encoded data removed]",
      "text/plain": [
       "<Figure size 1080x360 with 2 Axes>"
      ]
     },
     "metadata": {
      "needs_background": "light"
     },
     "output_type": "display_data"
    }
   ],
   "source": [
    "plt.figure(figsize=[15, 5])\n",
    "plt.subplot(1,2,1)\n",
    "title = 'Confusion matrix of validation '\n",
    "sns.heatmap(confusion_matrix(y1_valid, y_pred), annot=True, fmt='')\n",
    "plt.title(title)\n",
    "plt.xlabel('Predicted label');\n",
    "plt.ylabel('True label');\n",
    "\n",
    "print(f\"\\nClassification Report  : \\n\\n{classification_report(y1_valid,y_pred)}\")"
   ]
  },
  {
   "cell_type": "markdown",
   "metadata": {},
   "source": [
    "# 1.4 MLP Model "
   ]
  },
  {
   "cell_type": "code",
   "execution_count": 22,
   "metadata": {},
   "outputs": [],
   "source": [
    "imgs_flattened_mlp,y_label_mlp=balanced_subsample(imgs_flattened_mlp,y_label)"
   ]
  },
  {
   "cell_type": "code",
   "execution_count": 23,
   "metadata": {},
   "outputs": [],
   "source": [
    "#splitting data for mlp\n",
    "X_train, X_valid, y_train, y_valid = train_test_split(imgs_flattened_mlp,y_label_mlp, train_size=0.7, random_state=42, stratify=y_label_mlp)"
   ]
  },
  {
   "cell_type": "code",
   "execution_count": 24,
   "metadata": {
    "scrolled": true
   },
   "outputs": [
    {
     "name": "stdout",
     "output_type": "stream",
     "text": [
      "Iteration 1, loss = 0.69438874\n",
      "Iteration 2, loss = 0.69346404\n",
      "Iteration 3, loss = 0.69303326\n",
      "Iteration 4, loss = 0.69295202\n",
      "Iteration 5, loss = 0.69156863\n",
      "Iteration 6, loss = 0.69062210\n",
      "Iteration 7, loss = 0.68953073\n",
      "Iteration 8, loss = 0.69092643\n",
      "Iteration 9, loss = 0.68919276\n",
      "Iteration 10, loss = 0.69017483\n",
      "Iteration 11, loss = 0.68852433\n",
      "Iteration 12, loss = 0.68775798\n",
      "Iteration 13, loss = 0.68729414\n",
      "Iteration 14, loss = 0.68649227\n",
      "Iteration 15, loss = 0.68676909\n"
     ]
    },
    {
     "name": "stderr",
     "output_type": "stream",
     "text": [
      "C:\\Users\\zeroo\\anaconda3\\lib\\site-packages\\sklearn\\neural_network\\_multilayer_perceptron.py:692: ConvergenceWarning: Stochastic Optimizer: Maximum iterations (15) reached and the optimization hasn't converged yet.\n",
      "  warnings.warn(\n"
     ]
    }
   ],
   "source": [
    "mlp_train = MLPClassifier(max_iter=15,solver='sgd',verbose='true',random_state=1,hidden_layer_sizes=(40,))\n",
    "\n",
    "mlp_train.fit(X_train, y_train)\n",
    "\n",
    "y_mlp_of_Valid=mlp_train.predict(X_valid)\n"
   ]
  },
  {
   "cell_type": "code",
   "execution_count": 25,
   "metadata": {},
   "outputs": [
    {
     "name": "stdout",
     "output_type": "stream",
     "text": [
      "              precision    recall  f1-score   support\n",
      "\n",
      "         0.0       0.54      0.78      0.64       784\n",
      "         1.0       0.60      0.33      0.43       783\n",
      "\n",
      "    accuracy                           0.56      1567\n",
      "   macro avg       0.57      0.56      0.53      1567\n",
      "weighted avg       0.57      0.56      0.53      1567\n",
      "\n"
     ]
    },
    {
     "data": {
      "image/png": "[encoded data removed]",
      "text/plain": [
       "<Figure size 1080x360 with 2 Axes>"
      ]
     },
     "metadata": {
      "needs_background": "light"
     },
     "output_type": "display_data"
    }
   ],
   "source": [
    "plt.figure(figsize=[15, 5])\n",
    "plt.subplot(1,2,1)\n",
    "title = 'Confusion matrix of validation '\n",
    "sns.heatmap(confusion_matrix( y_valid, y_mlp_of_Valid ), annot=True, fmt='')\n",
    "plt.title(title)\n",
    "plt.xlabel('Predicted label');\n",
    "plt.ylabel('True label');\n",
    "\n",
    "print(classification_report(y_valid,y_mlp_of_Valid))"
   ]
  },
  {
   "cell_type": "markdown",
   "metadata": {},
   "source": [
    "## 1.5 Classification comparison\n"
   ]
  },
  {
   "cell_type": "markdown",
   "metadata": {},
   "source": [
    "### MLP case"
   ]
  },
  {
   "cell_type": "code",
   "execution_count": 26,
   "metadata": {},
   "outputs": [],
   "source": [
    "pictures_for_test = {}\n",
    "pictures_for_test_FE = {}\n",
    "\n",
    "for i in listOfFiles2:\n",
    "    pictures_for_test[i]= resize(io.imread(i), (32,32))\n",
    "    pictures_for_test[i]=pictures_for_test[i].reshape(32*32)\n",
    "    \n",
    "    pictures_for_test_FE[i]= resize(io.imread(i), (4,4))\n",
    "    pictures_for_test_FE[i]=exposure.equalize_hist(pictures_for_test_FE[i].reshape(4*4))\n",
    "    \n",
    "imgs2_test = [[ pictures_for_test[ file1 ], pictures_for_test[ file2 ]] for file1, file2 in pairs2]\n",
    "\n",
    "imgs2_test_FE = [[ pictures_for_test_FE[ file1 ], pictures_for_test_FE[ file2 ]] for file1, file2 in pairs2]\n",
    "\n",
    "imgs2_test = np.array(imgs2_test)\n",
    "imgs2_test_FE = np.array(imgs2_test_FE)\n",
    "\n",
    "#imgs = imgs.reshape(imgs.shape[0] ,-1) \n",
    "X_test_Flattened = imgs2_test.reshape(imgs2_test.shape[0] ,2*32*32) \n",
    "\n",
    "X_test_Flattened_FE = imgs2_test_FE.reshape(imgs2_test_FE.shape[0] ,2*4*4) "
   ]
  },
  {
   "cell_type": "code",
   "execution_count": 27,
   "metadata": {},
   "outputs": [],
   "source": [
    "#Preparing label \n",
    "\n",
    "y_test = []\n",
    "\n",
    "for imga,imgb in pairs2:\n",
    "    if os.path.dirname(imga) == os.path.dirname(imgb):\n",
    "        y_test.append(1)\n",
    "    else:\n",
    "        y_test.append(0)"
   ]
  },
  {
   "cell_type": "code",
   "execution_count": 28,
   "metadata": {
    "scrolled": true
   },
   "outputs": [
    {
     "name": "stdout",
     "output_type": "stream",
     "text": [
      "Time taken to predict: 0.04412531852722168 seconds\n"
     ]
    }
   ],
   "source": [
    "# prediction for X_test\n",
    "start1 = time()\n",
    "y_mlp2=mlp_train.predict(X_test_Flattened)\n",
    "print(f'Time taken to predict: {time() - start1} seconds')"
   ]
  },
  {
   "cell_type": "code",
   "execution_count": 29,
   "metadata": {},
   "outputs": [
    {
     "name": "stdout",
     "output_type": "stream",
     "text": [
      "              precision    recall  f1-score   support\n",
      "\n",
      "         0.0       0.54      0.77      0.63      1826\n",
      "         1.0       0.59      0.34      0.43      1827\n",
      "\n",
      "    accuracy                           0.55      3653\n",
      "   macro avg       0.56      0.55      0.53      3653\n",
      "weighted avg       0.56      0.55      0.53      3653\n",
      "\n"
     ]
    },
    {
     "data": {
      "image/png": "[encoded data removed]",
      "text/plain": [
       "<Figure size 1080x360 with 2 Axes>"
      ]
     },
     "metadata": {
      "needs_background": "light"
     },
     "output_type": "display_data"
    }
   ],
   "source": [
    "y_mlp_of_train=mlp_train.predict(X_train)\n",
    "\n",
    "plt.figure(figsize=[15, 5])\n",
    "plt.subplot(1,2,1)\n",
    "title = 'Confusion matrix of training '\n",
    "sns.heatmap(confusion_matrix( y_train, y_mlp_of_train ), annot=True, fmt='')\n",
    "plt.title(title)\n",
    "plt.xlabel('Predicted label');\n",
    "plt.ylabel('True label');\n",
    "\n",
    "print(classification_report(y_train,y_mlp_of_train))"
   ]
  },
  {
   "cell_type": "code",
   "execution_count": 30,
   "metadata": {},
   "outputs": [
    {
     "name": "stdout",
     "output_type": "stream",
     "text": [
      "              precision    recall  f1-score   support\n",
      "\n",
      "           0       0.84      0.64      0.73      1500\n",
      "           1       0.14      0.33      0.20       270\n",
      "\n",
      "    accuracy                           0.60      1770\n",
      "   macro avg       0.49      0.49      0.47      1770\n",
      "weighted avg       0.74      0.60      0.65      1770\n",
      "\n"
     ]
    },
    {
     "data": {
      "image/png": "[encoded data removed]",
      "text/plain": [
       "<Figure size 1080x360 with 2 Axes>"
      ]
     },
     "metadata": {
      "needs_background": "light"
     },
     "output_type": "display_data"
    }
   ],
   "source": [
    "plt.figure(figsize=[15, 5])\n",
    "plt.subplot(1,2,1)\n",
    "title = ' Confusion matrix of testing '\n",
    "sns.heatmap(confusion_matrix( y_test, y_mlp2 ), annot=True, fmt='')\n",
    "plt.title(title)\n",
    "plt.xlabel('Predicted label');\n",
    "plt.ylabel('True label');\n",
    "\n",
    "\n",
    "print(classification_report(y_test,y_mlp2))"
   ]
  },
  {
   "cell_type": "markdown",
   "metadata": {},
   "source": [
    "### Image matching threshold case"
   ]
  },
  {
   "cell_type": "code",
   "execution_count": 31,
   "metadata": {},
   "outputs": [],
   "source": [
    "# for imagematching function for testing folder\n",
    "\n",
    "pictures_for_test_imgM={}\n",
    "pictures_for_testing_imgMat_FE={}\n",
    "\n",
    "for i in listOfFiles2:\n",
    "    pictures_for_test_imgM[i]= resize(io.imread(i), (32,32))\n",
    "    \n",
    "    pictures_for_testing_imgMat_FE[i]= resize(io.imread(i), (4,4))\n",
    "    pictures_for_testing_imgMat_FE[i]=exposure.equalize_hist(pictures_for_testing_imgMat_FE[i])\n",
    "\n",
    "imgs_notflattened2_M=[[pictures_for_test_imgM[file1], pictures_for_test_imgM[file2]] for file1, file2 in pairs2]\n",
    "\n",
    "imgs_notflattened2_FE=[[pictures_for_testing_imgMat_FE[file1], pictures_for_testing_imgMat_FE[file2]] for file1, file2 in pairs2]\n",
    "\n",
    "\n",
    "X_test_notFlattened = np.array(imgs_notflattened2_M)\n",
    "\n",
    "X_test_notFlattened_FE= np.array(imgs_notflattened2_FE)"
   ]
  },
  {
   "cell_type": "code",
   "execution_count": 32,
   "metadata": {},
   "outputs": [],
   "source": [
    "scores_cc_normlized_test=[]\n",
    "for i1,i2 in X_test_notFlattened:\n",
    "    scores_cc_normlized_test.append(MatchingImages(i1,i2,'cc','true'))"
   ]
  },
  {
   "cell_type": "code",
   "execution_count": 33,
   "metadata": {},
   "outputs": [
    {
     "name": "stdout",
     "output_type": "stream",
     "text": [
      "\n",
      "Classification Report  : \n",
      "\n",
      "              precision    recall  f1-score   support\n",
      "\n",
      "         0.0       0.57      0.57      0.57      1826\n",
      "         1.0       0.57      0.57      0.57      1827\n",
      "\n",
      "    accuracy                           0.57      3653\n",
      "   macro avg       0.57      0.57      0.57      3653\n",
      "weighted avg       0.57      0.57      0.57      3653\n",
      "\n"
     ]
    },
    {
     "data": {
      "image/png": "[encoded data removed]",
      "text/plain": [
       "<Figure size 1080x360 with 2 Axes>"
      ]
     },
     "metadata": {
      "needs_background": "light"
     },
     "output_type": "display_data"
    }
   ],
   "source": [
    "y_pred2_train=[]\n",
    "\n",
    "for x in range( len( scores_cc_normalized_train ) ):\n",
    "\n",
    "    if scores_cc_normalized_train[x] > threshold_training:\n",
    "        y_pred2_train.append(1)\n",
    "    else:\n",
    "        y_pred2_train.append(0)\n",
    "        \n",
    "               \n",
    "plt.figure(figsize=[15, 5])\n",
    "plt.subplot(1,2,1)\n",
    "title = 'Confusion matrix of training '\n",
    "sns.heatmap(confusion_matrix( y_train, y_pred2_train ), annot=True, fmt='')\n",
    "plt.title(title)\n",
    "plt.xlabel('Predicted label');\n",
    "plt.ylabel('True label');\n",
    "print(f\"\\nClassification Report  : \\n\\n{classification_report(y_train,y_pred2_train)}\")"
   ]
  },
  {
   "cell_type": "code",
   "execution_count": 34,
   "metadata": {},
   "outputs": [
    {
     "name": "stdout",
     "output_type": "stream",
     "text": [
      "Time taken to run: 0.0 seconds\n"
     ]
    }
   ],
   "source": [
    "start2=time()\n",
    "\n",
    "y_pred2_test=[]\n",
    "for x in range( len( scores_cc_normlized_test ) ):\n",
    "\n",
    "    if scores_cc_normlized_test[x] > threshold_training:\n",
    "        y_pred2_test.append(1)\n",
    "    else:\n",
    "        y_pred2_test.append(0)     \n",
    "        \n",
    "print(f'Time taken to run: {time() - start2} seconds')"
   ]
  },
  {
   "cell_type": "code",
   "execution_count": 35,
   "metadata": {},
   "outputs": [
    {
     "name": "stdout",
     "output_type": "stream",
     "text": [
      "\n",
      "Classification Report  : \n",
      "\n",
      "              precision    recall  f1-score   support\n",
      "\n",
      "           0       0.89      0.60      0.72      1500\n",
      "           1       0.21      0.57      0.30       270\n",
      "\n",
      "    accuracy                           0.60      1770\n",
      "   macro avg       0.55      0.59      0.51      1770\n",
      "weighted avg       0.78      0.60      0.66      1770\n",
      "\n"
     ]
    },
    {
     "data": {
      "image/png": "[encoded data removed]",
      "text/plain": [
       "<Figure size 1080x360 with 2 Axes>"
      ]
     },
     "metadata": {
      "needs_background": "light"
     },
     "output_type": "display_data"
    }
   ],
   "source": [
    "plt.figure(figsize=[15, 5])\n",
    "plt.subplot(1,2,1)\n",
    "title = 'Confusion matrix of testing '\n",
    "sns.heatmap(confusion_matrix( y_test, y_pred2_test ), annot=True, fmt='')\n",
    "plt.title(title)\n",
    "plt.xlabel('Predicted label');\n",
    "plt.ylabel('True label');\n",
    "print(f\"\\nClassification Report  : \\n\\n{classification_report(y_test,y_pred2_test)}\")"
   ]
  },
  {
   "cell_type": "markdown",
   "metadata": {},
   "source": [
    "### The performance of the simple classifer was better as shown above with classification reports"
   ]
  },
  {
   "cell_type": "markdown",
   "metadata": {},
   "source": [
    "### The time taking to predict in threshold img matching case (0.008 secs) faster than MLP case (0.0239 secs), also the simple classifier was better as the recall was better than the mlp case in classification report ,also the accuracy was better."
   ]
  },
  {
   "cell_type": "markdown",
   "metadata": {},
   "source": [
    "### The generlization of both classifiers is bad as the accs were 58% and 60% on the test data."
   ]
  },
  {
   "cell_type": "markdown",
   "metadata": {},
   "source": [
    "### The Robustness is also bad as the model could not classify well , and maybe if we did the best case for feature engineering will make it performs well in addition to other factors ."
   ]
  },
  {
   "cell_type": "markdown",
   "metadata": {},
   "source": [
    "### Furthermore, the training performance is so bad which means the model could not learn well."
   ]
  },
  {
   "cell_type": "markdown",
   "metadata": {},
   "source": [
    "-----------------------------------\n",
    "# 1.6 Feature Engineering\n",
    "------------------------------------"
   ]
  },
  {
   "cell_type": "markdown",
   "metadata": {},
   "source": [
    "### FE for section 1.3"
   ]
  },
  {
   "cell_type": "code",
   "execution_count": 36,
   "metadata": {},
   "outputs": [],
   "source": [
    "imgs_notflattened_FE,y_label_match_FE=balanced_subsample(imgs_notflattened_FE,y_label)"
   ]
  },
  {
   "cell_type": "code",
   "execution_count": 37,
   "metadata": {},
   "outputs": [],
   "source": [
    "#splitting data for Image matching simple classifer\n",
    "\n",
    "X1_train_FE, X1_valid_FE, y1_train_FE, y1_valid_FE = train_test_split(imgs_notflattened_FE,y_label_match_FE, train_size=0.7, random_state=42, stratify=y_label_match_FE)"
   ]
  },
  {
   "cell_type": "code",
   "execution_count": 38,
   "metadata": {},
   "outputs": [
    {
     "name": "stdout",
     "output_type": "stream",
     "text": [
      "Threshold of training : 0.5303720292005577\n"
     ]
    }
   ],
   "source": [
    "scores_cc_normalized_valid_FE=[]\n",
    "scores_cc_normalized_train_FE=[]\n",
    "\n",
    "for i1,i2 in X1_valid_FE:\n",
    "    scores_cc_normalized_valid_FE.append(MatchingImages(i1,i2,'cc','true'))\n",
    "    \n",
    "for i1,i2 in X1_train_FE:\n",
    "    scores_cc_normalized_train_FE.append(MatchingImages(i1,i2,'cc','true'))\n",
    "    \n",
    "\n",
    "print('Threshold of training :',np.median(scores_cc_normalized_train_FE) )\n"
   ]
  },
  {
   "cell_type": "code",
   "execution_count": 39,
   "metadata": {},
   "outputs": [],
   "source": [
    "y_pred_FE=[]\n",
    "#< >\n",
    "threshold_training_FE=np.median(scores_cc_normalized_train_FE)\n",
    "\n",
    "for x in range( len( X1_valid_FE ) ):\n",
    "\n",
    "    if scores_cc_normalized_valid_FE[x] > threshold_training_FE:\n",
    "        y_pred_FE.append(1)\n",
    "    else:\n",
    "        y_pred_FE.append(0)     "
   ]
  },
  {
   "cell_type": "code",
   "execution_count": 40,
   "metadata": {},
   "outputs": [
    {
     "name": "stdout",
     "output_type": "stream",
     "text": [
      "\n",
      "Classification Report  : \n",
      "\n",
      "              precision    recall  f1-score   support\n",
      "\n",
      "         0.0       0.60      0.60      0.60       784\n",
      "         1.0       0.60      0.60      0.60       783\n",
      "\n",
      "    accuracy                           0.60      1567\n",
      "   macro avg       0.60      0.60      0.60      1567\n",
      "weighted avg       0.60      0.60      0.60      1567\n",
      "\n"
     ]
    },
    {
     "data": {
      "image/png": "[encoded data removed]",
      "text/plain": [
       "<Figure size 1080x360 with 2 Axes>"
      ]
     },
     "metadata": {
      "needs_background": "light"
     },
     "output_type": "display_data"
    }
   ],
   "source": [
    "plt.figure(figsize=[15, 5])\n",
    "plt.subplot(1,2,1)\n",
    "title = 'Confusion matrix of validation '\n",
    "sns.heatmap(confusion_matrix(y1_valid_FE, y_pred_FE), annot=True, fmt='')\n",
    "plt.title(title)\n",
    "plt.xlabel('Predicted label');\n",
    "plt.ylabel('True label');\n",
    "\n",
    "print(f\"\\nClassification Report  : \\n\\n{classification_report(y1_valid_FE,y_pred_FE)}\")"
   ]
  },
  {
   "cell_type": "markdown",
   "metadata": {},
   "source": [
    "### The performance of model with feature engineering is better as the acc is 61% and before was 56% , also the recall and precision were better ."
   ]
  },
  {
   "cell_type": "markdown",
   "metadata": {},
   "source": [
    "### FE for section1.4"
   ]
  },
  {
   "cell_type": "code",
   "execution_count": 41,
   "metadata": {},
   "outputs": [],
   "source": [
    "imgs_flattened_mlp_Fengineering,y_label_FE=balanced_subsample(imgs_flattened_mlp_Fengineering,y_label)"
   ]
  },
  {
   "cell_type": "code",
   "execution_count": 42,
   "metadata": {},
   "outputs": [],
   "source": [
    "#splitting data for Image matching simple classifer\n",
    "\n",
    "X_train_FE, X_valid_FE, y_train_FE, y_valid_FE = train_test_split(imgs_flattened_mlp_Fengineering,y_label_FE, train_size=0.7, random_state=42, stratify=y_label_FE)"
   ]
  },
  {
   "cell_type": "code",
   "execution_count": 43,
   "metadata": {
    "scrolled": true
   },
   "outputs": [
    {
     "name": "stdout",
     "output_type": "stream",
     "text": [
      "Iteration 1, loss = 0.71486182\n",
      "Iteration 2, loss = 0.69733144\n",
      "Iteration 3, loss = 0.68993279\n",
      "Iteration 4, loss = 0.68850889\n",
      "Iteration 5, loss = 0.68761747\n",
      "Iteration 6, loss = 0.68694996\n",
      "Iteration 7, loss = 0.68637718\n",
      "Iteration 8, loss = 0.68583543\n",
      "Iteration 9, loss = 0.68529081\n",
      "Iteration 10, loss = 0.68476282\n",
      "Iteration 11, loss = 0.68427404\n",
      "Iteration 12, loss = 0.68385637\n",
      "Iteration 13, loss = 0.68325935\n",
      "Iteration 14, loss = 0.68281270\n",
      "Iteration 15, loss = 0.68232336\n"
     ]
    },
    {
     "name": "stderr",
     "output_type": "stream",
     "text": [
      "C:\\Users\\zeroo\\anaconda3\\lib\\site-packages\\sklearn\\neural_network\\_multilayer_perceptron.py:692: ConvergenceWarning: Stochastic Optimizer: Maximum iterations (15) reached and the optimization hasn't converged yet.\n",
      "  warnings.warn(\n"
     ]
    }
   ],
   "source": [
    "mlp_train_FE = MLPClassifier(max_iter=15,solver='sgd',verbose='true',random_state=1,hidden_layer_sizes=(40,))\n",
    "\n",
    "mlp_train_FE.fit(X_train_FE, y_train_FE)\n",
    "\n",
    "y_mlp_validFE=mlp_train_FE.predict(X_valid_FE)\n"
   ]
  },
  {
   "cell_type": "code",
   "execution_count": 44,
   "metadata": {},
   "outputs": [
    {
     "name": "stdout",
     "output_type": "stream",
     "text": [
      "\n",
      "Classification Report  : \n",
      "\n",
      "              precision    recall  f1-score   support\n",
      "\n",
      "         0.0       0.58      0.50      0.54       784\n",
      "         1.0       0.56      0.63      0.59       783\n",
      "\n",
      "    accuracy                           0.57      1567\n",
      "   macro avg       0.57      0.57      0.56      1567\n",
      "weighted avg       0.57      0.57      0.56      1567\n",
      "\n"
     ]
    },
    {
     "data": {
      "image/png": "[encoded data removed]",
      "text/plain": [
       "<Figure size 1080x360 with 2 Axes>"
      ]
     },
     "metadata": {
      "needs_background": "light"
     },
     "output_type": "display_data"
    }
   ],
   "source": [
    "plt.figure(figsize=[15, 5])\n",
    "plt.subplot(1,2,1)\n",
    "title = 'Confusion matrix of testing '\n",
    "sns.heatmap(confusion_matrix( y_valid_FE, y_mlp_validFE ), annot=True, fmt='')\n",
    "plt.title(title)\n",
    "plt.xlabel('Predicted label');\n",
    "plt.ylabel('True label');\n",
    "\n",
    "print(f\"\\nClassification Report  : \\n\\n{classification_report(y_valid_FE,y_mlp_validFE)}\")"
   ]
  },
  {
   "cell_type": "markdown",
   "metadata": {},
   "source": [
    "### The performance of model with feature engineering is better as the acc is 56% and before was 54% , also the recall and precision were better"
   ]
  },
  {
   "cell_type": "markdown",
   "metadata": {},
   "source": [
    "---------------------\n",
    "# 1.7 Discussion on Feature Engineering\n",
    "--------------------"
   ]
  },
  {
   "cell_type": "markdown",
   "metadata": {},
   "source": [
    "## I used Histogram Equalization as an image processing technique as it improves contrast in images. It's is a method to process images in order to adjust the contrast of an image by modifying the intensity distribution of the histogram. The objective of this technique is to give a linear trend to the cumulative probability function associated to the image.\n",
    "\n",
    "## The processing of histogram equalization relies on the use of the cumulative probability function (cdf). The cdf is a cumulative sum of all the probabilities lying in its domain."
   ]
  },
  {
   "cell_type": "markdown",
   "metadata": {},
   "source": [
    "### section 1.3 simple classifier test"
   ]
  },
  {
   "cell_type": "code",
   "execution_count": 45,
   "metadata": {},
   "outputs": [],
   "source": [
    "\n",
    "scores_cc_normlized_test_FE=[]\n",
    "for i1,i2 in X_test_notFlattened_FE:\n",
    "    scores_cc_normlized_test_FE.append(MatchingImages(i1,i2,'cc','true'))"
   ]
  },
  {
   "cell_type": "code",
   "execution_count": 46,
   "metadata": {},
   "outputs": [],
   "source": [
    "y_pred2_test_FE=[]\n",
    "\n",
    "for x in range( len( scores_cc_normlized_test_FE ) ):\n",
    "\n",
    "    if scores_cc_normlized_test_FE[x] > threshold_training_FE:\n",
    "        y_pred2_test_FE.append(1)\n",
    "    else:\n",
    "        y_pred2_test_FE.append(0)"
   ]
  },
  {
   "cell_type": "code",
   "execution_count": 47,
   "metadata": {},
   "outputs": [
    {
     "name": "stdout",
     "output_type": "stream",
     "text": [
      "\n",
      "Classification Report  : \n",
      "\n",
      "              precision    recall  f1-score   support\n",
      "\n",
      "           0       0.89      0.64      0.74      1500\n",
      "           1       0.21      0.54      0.31       270\n",
      "\n",
      "    accuracy                           0.63      1770\n",
      "   macro avg       0.55      0.59      0.52      1770\n",
      "weighted avg       0.78      0.63      0.68      1770\n",
      "\n"
     ]
    },
    {
     "data": {
      "image/png": "[encoded data removed]",
      "text/plain": [
       "<Figure size 1080x360 with 2 Axes>"
      ]
     },
     "metadata": {
      "needs_background": "light"
     },
     "output_type": "display_data"
    }
   ],
   "source": [
    "plt.figure(figsize=[15, 5])\n",
    "plt.subplot(1,2,1)\n",
    "title = 'Confusion matrix of testing '\n",
    "sns.heatmap(confusion_matrix( y_test, y_pred2_test_FE ), annot=True, fmt='')\n",
    "plt.title(title)\n",
    "plt.xlabel('Predicted label');\n",
    "plt.ylabel('True label');\n",
    "print(f\"\\nClassification Report  : \\n\\n{classification_report(y_test,y_pred2_test_FE)}\")"
   ]
  },
  {
   "cell_type": "markdown",
   "metadata": {},
   "source": [
    "### The model performance is better as the acc: 63% and before feature engineering was 60%, also the recall and precision are better"
   ]
  },
  {
   "cell_type": "markdown",
   "metadata": {},
   "source": [
    "###  section 1.4 MLP test"
   ]
  },
  {
   "cell_type": "code",
   "execution_count": 48,
   "metadata": {},
   "outputs": [],
   "source": [
    "y_mlp_testFE=mlp_train_FE.predict(X_test_Flattened_FE)"
   ]
  },
  {
   "cell_type": "code",
   "execution_count": 49,
   "metadata": {},
   "outputs": [
    {
     "name": "stdout",
     "output_type": "stream",
     "text": [
      "\n",
      "Classification Report  : \n",
      "\n",
      "              precision    recall  f1-score   support\n",
      "\n",
      "           0       0.88      0.66      0.75      1500\n",
      "           1       0.20      0.48      0.29       270\n",
      "\n",
      "    accuracy                           0.63      1770\n",
      "   macro avg       0.54      0.57      0.52      1770\n",
      "weighted avg       0.77      0.63      0.68      1770\n",
      "\n"
     ]
    },
    {
     "data": {
      "image/png": "[encoded data removed]",
      "text/plain": [
       "<Figure size 1080x360 with 2 Axes>"
      ]
     },
     "metadata": {
      "needs_background": "light"
     },
     "output_type": "display_data"
    }
   ],
   "source": [
    "plt.figure(figsize=[15, 5])\n",
    "plt.subplot(1,2,1)\n",
    "title = 'Confusion matrix of testing '\n",
    "sns.heatmap(confusion_matrix( y_test, y_mlp_testFE ), annot=True, fmt='')\n",
    "plt.title(title)\n",
    "plt.xlabel('Predicted label');\n",
    "plt.ylabel('True label');\n",
    "\n",
    "print(f\"\\nClassification Report  : \\n\\n{classification_report(y_test,y_mlp_testFE)}\")"
   ]
  },
  {
   "cell_type": "markdown",
   "metadata": {},
   "source": [
    "### The model performance is better as the acc: 63% and before feature engineering was 58%, also the recall and precision"
   ]
  }
 ],
 "metadata": {
  "kernelspec": {
   "display_name": "Python 3",
   "language": "python",
   "name": "python3"
  },
  "language_info": {
   "codemirror_mode": {
    "name": "ipython",
    "version": 3
   },
   "file_extension": ".py",
   "mimetype": "text/x-python",
   "name": "python",
   "nbconvert_exporter": "python",
   "pygments_lexer": "ipython3",
   "version": "3.8.5"
  }
 },
 "nbformat": 4,
 "nbformat_minor": 4
}
