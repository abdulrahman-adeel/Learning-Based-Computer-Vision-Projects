{
 "cells": [
  {
   "cell_type": "markdown",
   "metadata": {},
   "source": [
    "------------------\n",
    "# Name : Abdelrahman Basha\n",
    "------------------"
   ]
  },
  {
   "cell_type": "markdown",
   "metadata": {},
   "source": [
    "## Importing required libraries"
   ]
  },
  {
   "cell_type": "code",
   "execution_count": 1,
   "metadata": {},
   "outputs": [],
   "source": [
    "#importing libraries\n",
    "\n",
    "import os\n",
    "import numpy as np\n",
    "import random \n",
    "import pandas as pd\n",
    "from time import time\n",
    "from skimage import io\n",
    "import seaborn as sns\n",
    "import matplotlib.pyplot as plt\n",
    "from skimage.transform import resize\n",
    "import tensorflow as tf\n",
    "from tensorflow.keras.applications import VGG16\n",
    "from keras.layers import BatchNormalization\n",
    "import tensorflow.keras\n",
    "from tensorflow.keras.models import Model\n",
    "from tensorflow.keras.layers import Dense, Flatten, Conv2D, MaxPooling2D,Dropout\n",
    "from sklearn.model_selection import train_test_split\n",
    "from sklearn.metrics import accuracy_score,precision_score,recall_score,f1_score\n",
    "from sklearn.metrics import confusion_matrix,plot_confusion_matrix,classification_report,accuracy_score,mean_squared_error\n"
   ]
  },
  {
   "cell_type": "code",
   "execution_count": 2,
   "metadata": {},
   "outputs": [],
   "source": [
    "def seeed():\n",
    "    np.random.seed(42)\n",
    "    random.seed(42)\n",
    "    tf.random.set_seed(42)\n",
    "\n",
    "def SEED():\n",
    "    SEED = 123456\n",
    "    os.environ['PYTHONHASHSEED']=str(SEED)\n",
    "    np.random.seed(SEED)\n",
    "    tf.random.set_seed(SEED)\n",
    "    random.seed(SEED)"
   ]
  },
  {
   "cell_type": "markdown",
   "metadata": {},
   "source": [
    "## Reading the Folders "
   ]
  },
  {
   "cell_type": "code",
   "execution_count": 3,
   "metadata": {
    "scrolled": true
   },
   "outputs": [],
   "source": [
    "os.listdir(path='.')\n",
    "\n",
    "def getListOfFiles(dirName):\n",
    "    \n",
    "    listOfFile = os.listdir(dirName)\n",
    "    allFiles = list()\n",
    "    \n",
    "    for i in listOfFile:\n",
    "        fullPath = os.path.join(dirName, i)\n",
    "        if os.path.isdir(fullPath):\n",
    "            allFiles = allFiles + getListOfFiles(fullPath)\n",
    "        else:\n",
    "            allFiles.append(fullPath)\n",
    "                \n",
    "    return allFiles        \n",
    "\n",
    "\n",
    "dirName1 = 'training'\n",
    "dirName2 = 'testing'\n",
    "\n",
    "\n",
    "listOfFiles1 = getListOfFiles(dirName1)\n",
    "listOfFiles2 = getListOfFiles(dirName2)\n",
    "\n",
    "\n",
    "listOfFiles1 = list()\n",
    "for (dirpath, dirnames, filenames) in os.walk(dirName1):\n",
    "    listOfFiles1 += [os.path.join(dirpath, file) for file in filenames]\n",
    "    \n",
    "listOfFiles2 = list()\n",
    "for (dirpath, dirnames, filenames) in os.walk(dirName2):\n",
    "    listOfFiles2 += [os.path.join(dirpath, file) for file in filenames]\n",
    "\n",
    "\n",
    "# for i in listOfFiles1:\n",
    "#     print(i)    "
   ]
  },
  {
   "cell_type": "code",
   "execution_count": 4,
   "metadata": {},
   "outputs": [],
   "source": [
    "#For training\n",
    "\n",
    "imgs_training = [io.imread(file) for file in listOfFiles1]\n",
    "\n",
    "processed_imgs_training = []\n",
    "\n",
    "for i in imgs_training:\n",
    "    x = resize(i, (32, 32))\n",
    "    processed_imgs_training.append(x)\n",
    "    \n",
    "processed_imgs_training = np.array(processed_imgs_training)\n"
   ]
  },
  {
   "cell_type": "code",
   "execution_count": 5,
   "metadata": {},
   "outputs": [],
   "source": [
    "imgs_test = [io.imread(file) for file in listOfFiles2]\n",
    "\n",
    "X_test = []\n",
    "\n",
    "for i in imgs_test:\n",
    "    x = resize(i, (32, 32))\n",
    "    X_test.append(x)\n",
    "    \n",
    "X_test = np.array(X_test)\n"
   ]
  },
  {
   "cell_type": "markdown",
   "metadata": {},
   "source": [
    "### I am considering here with 1 leaf = class 0 , 2 leaves= class 1, 3 leaves = class 2, 1 leaf = class 3 , 4 leaves= class 4, 6 leaves = class, 5 "
   ]
  },
  {
   "cell_type": "code",
   "execution_count": 6,
   "metadata": {},
   "outputs": [],
   "source": [
    "#Preparing label for multiclass\n",
    "\n",
    "ymul = []\n",
    "\n",
    "for f in listOfFiles1:\n",
    "    f=f[15:25]\n",
    "    if '1' in f:\n",
    "        ymul.append(0)\n",
    "    elif '2' in f:\n",
    "        ymul.append(1)\n",
    "    elif '3' in f:\n",
    "        ymul.append(2)\n",
    "    elif '4' in f:\n",
    "        ymul.append(3)\n",
    "    else:\n",
    "        ymul.append(4)"
   ]
  },
  {
   "cell_type": "code",
   "execution_count": 7,
   "metadata": {},
   "outputs": [],
   "source": [
    "#Preparing label for multiclass\n",
    "\n",
    "y_test = []\n",
    "\n",
    "for f in listOfFiles2:\n",
    "    f=f[15:24]\n",
    "    if '1' in f:\n",
    "        y_test.append(0)\n",
    "    elif '2' in f:\n",
    "        y_test.append(1)\n",
    "    elif '3' in f:\n",
    "        y_test.append(2)\n",
    "    elif '4' in f:\n",
    "        y_test.append(3)\n",
    "    else:\n",
    "        y_test.append(4)"
   ]
  },
  {
   "cell_type": "code",
   "execution_count": 8,
   "metadata": {},
   "outputs": [],
   "source": [
    "#splitting data \n",
    "SEED()\n",
    "\n",
    "X_train, X_valid, y_train, y_valid = train_test_split(processed_imgs_training,ymul, train_size=0.7, random_state=42, stratify=ymul)"
   ]
  },
  {
   "cell_type": "code",
   "execution_count": 9,
   "metadata": {},
   "outputs": [],
   "source": [
    "X_train = X_train.reshape(X_train.shape[0],32,32,3)\n",
    "X_valid = X_valid.reshape(X_valid.shape[0],32,32,3)"
   ]
  },
  {
   "cell_type": "code",
   "execution_count": 10,
   "metadata": {},
   "outputs": [],
   "source": [
    "X_test = X_test.reshape(X_test.shape[0],32,32,3)"
   ]
  },
  {
   "cell_type": "markdown",
   "metadata": {},
   "source": [
    "## 3.1 Classification Network\n"
   ]
  },
  {
   "cell_type": "code",
   "execution_count": 11,
   "metadata": {},
   "outputs": [],
   "source": [
    "vgg_model = VGG16(weights='imagenet',\n",
    "                      include_top=False,\n",
    "                      input_shape=(32, 32, 3))"
   ]
  },
  {
   "cell_type": "code",
   "execution_count": 12,
   "metadata": {},
   "outputs": [],
   "source": [
    "#For classification\n",
    "\n",
    "def CN1():\n",
    "    for layer in vgg_model.layers:\n",
    "        layer.trainable = False\n",
    "\n",
    "    # We will have to use the functional API    \n",
    "\n",
    "    # last layers output\n",
    "    x = vgg_model.layers[6].output\n",
    "    #Flatten as before\n",
    "\n",
    "    x= Conv2D(64, (3, 3), padding=\"same\", activation=\"relu\")(x)\n",
    "    x=MaxPooling2D(pool_size=(2, 2))(x)\n",
    "    x= Conv2D(32, (3, 3), padding=\"same\", activation=\"relu\")(x)\n",
    "\n",
    "    x = Flatten()(x)\n",
    "\n",
    "    x = Dense(128, activation='relu')(x)\n",
    "    x = Dense(5, activation='softmax')(x)\n",
    "\n",
    "    from tensorflow.keras.models import Model\n",
    "    vgg_model_transfer = Model(inputs=vgg_model.input, outputs=x)\n",
    "    \n",
    "    return vgg_model_transfer "
   ]
  },
  {
   "cell_type": "code",
   "execution_count": 13,
   "metadata": {},
   "outputs": [],
   "source": [
    "#print(vgg_model_transfer.summary())"
   ]
  },
  {
   "cell_type": "code",
   "execution_count": 14,
   "metadata": {},
   "outputs": [],
   "source": [
    "nClasses = 5\n",
    "\n",
    "# Use Keras' handy utils\n",
    "y_train_k = tensorflow.keras.utils.to_categorical(y_train, num_classes=nClasses)\n",
    "y_valid_k = tensorflow.keras.utils.to_categorical(y_valid, num_classes=nClasses)\n"
   ]
  },
  {
   "cell_type": "code",
   "execution_count": 15,
   "metadata": {},
   "outputs": [],
   "source": [
    "y_test_k = tensorflow.keras.utils.to_categorical(y_test, num_classes=nClasses)\n"
   ]
  },
  {
   "cell_type": "code",
   "execution_count": 16,
   "metadata": {},
   "outputs": [
    {
     "name": "stderr",
     "output_type": "stream",
     "text": [
      "C:\\Users\\zeroo\\anaconda3\\lib\\site-packages\\keras\\optimizer_v2\\optimizer_v2.py:355: UserWarning: The `lr` argument is deprecated, use `learning_rate` instead.\n",
      "  warnings.warn(\n"
     ]
    },
    {
     "name": "stdout",
     "output_type": "stream",
     "text": [
      "Epoch 1/10\n",
      "79/79 [==============================] - 5s 30ms/step - loss: 2.2858 - accuracy: 0.2175 - val_loss: 1.5746 - val_accuracy: 0.2481\n",
      "Epoch 2/10\n",
      "79/79 [==============================] - 2s 20ms/step - loss: 1.5018 - accuracy: 0.3444 - val_loss: 1.5653 - val_accuracy: 0.2963\n",
      "Epoch 3/10\n",
      "79/79 [==============================] - 2s 19ms/step - loss: 1.4177 - accuracy: 0.3841 - val_loss: 1.5632 - val_accuracy: 0.3074\n",
      "Epoch 4/10\n",
      "79/79 [==============================] - 2s 19ms/step - loss: 1.2167 - accuracy: 0.4683 - val_loss: 1.4876 - val_accuracy: 0.3593\n",
      "Epoch 5/10\n",
      "79/79 [==============================] - 2s 19ms/step - loss: 1.1120 - accuracy: 0.5349 - val_loss: 1.3758 - val_accuracy: 0.4259\n",
      "Epoch 6/10\n",
      "79/79 [==============================] - 2s 20ms/step - loss: 0.9594 - accuracy: 0.6048 - val_loss: 1.3358 - val_accuracy: 0.4519\n",
      "Epoch 7/10\n",
      "79/79 [==============================] - 3s 41ms/step - loss: 0.8549 - accuracy: 0.6476 - val_loss: 1.5132 - val_accuracy: 0.4556\n",
      "Epoch 8/10\n",
      "79/79 [==============================] - 3s 39ms/step - loss: 0.7032 - accuracy: 0.7317 - val_loss: 1.7171 - val_accuracy: 0.4481\n",
      "Epoch 9/10\n",
      "79/79 [==============================] - 2s 20ms/step - loss: 0.4949 - accuracy: 0.8317 - val_loss: 1.8657 - val_accuracy: 0.4593\n",
      "Epoch 10/10\n",
      "79/79 [==============================] - 2s 31ms/step - loss: 0.3012 - accuracy: 0.9079 - val_loss: 1.9726 - val_accuracy: 0.4704\n"
     ]
    }
   ],
   "source": [
    "batchSize = 8\n",
    "nEpochs = 10\n",
    "\n",
    " \n",
    "SEED()    \n",
    "\n",
    "vgg_model_transfer = CN1()        \n",
    "sgd = tensorflow.keras.optimizers.SGD(lr=0.0008)\n",
    "vgg_model_transfer.compile(loss='categorical_crossentropy', \n",
    "                           optimizer='adam', \n",
    "                           metrics=['accuracy'])\n",
    "\n",
    "\n",
    "history = vgg_model_transfer.fit(X_train, y_train_k, batch_size=batchSize, epochs=nEpochs, verbose=1, \n",
    "                                 validation_data=(X_valid, y_valid_k))\n"
   ]
  },
  {
   "cell_type": "markdown",
   "metadata": {},
   "source": [
    "### Function for plotting confusion matrix"
   ]
  },
  {
   "cell_type": "code",
   "execution_count": 17,
   "metadata": {},
   "outputs": [],
   "source": [
    "def plotconf_cla(y_true,y_predict,title):\n",
    "    plt.figure(figsize=[15, 5])\n",
    "    plt.subplot(1,2,1)\n",
    "    sns.heatmap(confusion_matrix( y_true.argmax(axis=1), y_predict ), annot=True, fmt='')\n",
    "    plt.title(title)\n",
    "    plt.xlabel('Predicted label');\n",
    "    plt.ylabel('True label');\n",
    "    print(f\"\\nClassification Report  : \\n\\n{classification_report(y_true.argmax(axis=-1), y_predict)}\")\n",
    "    return"
   ]
  },
  {
   "cell_type": "code",
   "execution_count": 18,
   "metadata": {},
   "outputs": [],
   "source": [
    "def plotconf_nocla(y_true,y_predict,title):\n",
    "    plt.figure(figsize=[15, 5])\n",
    "    plt.subplot(1,2,1)\n",
    "    sns.heatmap(confusion_matrix( y_true, y_predict ), annot=True, fmt='')\n",
    "    plt.title(title)\n",
    "    plt.xlabel('Predicted label');\n",
    "    plt.ylabel('True label');\n",
    "    print(f\"\\nClassification Report  : \\n\\n{classification_report(y_true, y_predict)}\")\n",
    "    return"
   ]
  },
  {
   "cell_type": "code",
   "execution_count": 19,
   "metadata": {},
   "outputs": [],
   "source": [
    "y_predict_prob_train = vgg_model_transfer.predict(X_train)\n",
    "\n",
    "y_predict_train = y_predict_prob_train.argmax(axis=-1)"
   ]
  },
  {
   "cell_type": "code",
   "execution_count": 20,
   "metadata": {},
   "outputs": [
    {
     "name": "stdout",
     "output_type": "stream",
     "text": [
      "\n",
      "Classification Report  : \n",
      "\n",
      "              precision    recall  f1-score   support\n",
      "\n",
      "           0       0.99      0.96      0.98       126\n",
      "           1       0.97      0.91      0.94       126\n",
      "           2       0.87      0.98      0.92       126\n",
      "           3       0.98      0.92      0.95       126\n",
      "           4       0.95      0.97      0.96       126\n",
      "\n",
      "    accuracy                           0.95       630\n",
      "   macro avg       0.95      0.95      0.95       630\n",
      "weighted avg       0.95      0.95      0.95       630\n",
      "\n"
     ]
    },
    {
     "data": {
      "image/png": "[encoded data removed]",
      "text/plain": [
       "<Figure size 1080x360 with 2 Axes>"
      ]
     },
     "metadata": {
      "needs_background": "light"
     },
     "output_type": "display_data"
    }
   ],
   "source": [
    "plotconf_cla(y_train_k,y_predict_train,'Confusion matrix for training')"
   ]
  },
  {
   "cell_type": "code",
   "execution_count": 21,
   "metadata": {},
   "outputs": [],
   "source": [
    "y_predict_prob_valid = vgg_model_transfer.predict(X_valid)\n",
    "\n",
    "y_predict_valid = y_predict_prob_valid.argmax(axis=-1)"
   ]
  },
  {
   "cell_type": "code",
   "execution_count": 22,
   "metadata": {},
   "outputs": [
    {
     "name": "stdout",
     "output_type": "stream",
     "text": [
      "\n",
      "Classification Report  : \n",
      "\n",
      "              precision    recall  f1-score   support\n",
      "\n",
      "           0       0.73      0.65      0.69        54\n",
      "           1       0.51      0.52      0.51        54\n",
      "           2       0.30      0.44      0.36        54\n",
      "           3       0.42      0.39      0.40        54\n",
      "           4       0.50      0.35      0.41        54\n",
      "\n",
      "    accuracy                           0.47       270\n",
      "   macro avg       0.49      0.47      0.48       270\n",
      "weighted avg       0.49      0.47      0.48       270\n",
      "\n"
     ]
    },
    {
     "data": {
      "image/png": "[encoded data removed]",
      "text/plain": [
       "<Figure size 1080x360 with 2 Axes>"
      ]
     },
     "metadata": {
      "needs_background": "light"
     },
     "output_type": "display_data"
    }
   ],
   "source": [
    "plotconf_cla(y_valid_k,y_predict_valid,'Confusion matrix for validation')"
   ]
  },
  {
   "cell_type": "code",
   "execution_count": 23,
   "metadata": {},
   "outputs": [],
   "source": [
    "y_predict_prob_test = vgg_model_transfer.predict(X_test)\n",
    "y_predict_test = y_predict_prob_test.argmax(axis=-1)"
   ]
  },
  {
   "cell_type": "code",
   "execution_count": 24,
   "metadata": {},
   "outputs": [
    {
     "name": "stdout",
     "output_type": "stream",
     "text": [
      "\n",
      "Classification Report  : \n",
      "\n",
      "              precision    recall  f1-score   support\n",
      "\n",
      "           0       0.52      0.60      0.56        20\n",
      "           1       0.40      0.30      0.34        20\n",
      "           2       0.23      0.35      0.28        20\n",
      "           3       0.40      0.40      0.40        20\n",
      "           4       0.42      0.25      0.31        20\n",
      "\n",
      "    accuracy                           0.38       100\n",
      "   macro avg       0.39      0.38      0.38       100\n",
      "weighted avg       0.39      0.38      0.38       100\n",
      "\n"
     ]
    },
    {
     "data": {
      "image/png": "[encoded data removed]",
      "text/plain": [
       "<Figure size 1080x360 with 2 Axes>"
      ]
     },
     "metadata": {
      "needs_background": "light"
     },
     "output_type": "display_data"
    }
   ],
   "source": [
    "plotconf_cla(y_test_k,y_predict_test,'Confusion matrix for testing')"
   ]
  },
  {
   "cell_type": "markdown",
   "metadata": {},
   "source": [
    "### Learning curves"
   ]
  },
  {
   "cell_type": "code",
   "execution_count": 25,
   "metadata": {},
   "outputs": [
    {
     "data": {
      "image/png": "[encoded data removed]",
      "text/plain": [
       "<Figure size 432x288 with 1 Axes>"
      ]
     },
     "metadata": {
      "needs_background": "light"
     },
     "output_type": "display_data"
    }
   ],
   "source": [
    "# dictionary keys seems to have changed in version 2\n",
    "k = ''\n",
    "if 'accuracy' in history.history :\n",
    "    k = 'accuracy'    \n",
    "\n",
    "if 'acc' in history.history :\n",
    "    k = 'acc'\n",
    "    \n",
    "if k != '' :    \n",
    "    plt.plot(history.history[k])\n",
    "    plt.plot(history.history['val_'+k])\n",
    "    plt.title('Model Accuracy')\n",
    "    plt.ylabel('Accuracy')\n",
    "    plt.xlabel('Epoch')\n",
    "    plt.legend(['train', 'valid'], loc='upper left')\n",
    "    plt.show()\n"
   ]
  },
  {
   "cell_type": "markdown",
   "metadata": {},
   "source": [
    "## 3.2  Regression Network"
   ]
  },
  {
   "cell_type": "code",
   "execution_count": 26,
   "metadata": {},
   "outputs": [],
   "source": [
    "#For Regression\n",
    "def CR1():\n",
    "    for layer in vgg_model.layers:\n",
    "        layer.trainable = False\n",
    "\n",
    "    # We will have to use the functional API    \n",
    "\n",
    "    # last layers output\n",
    "    x2 = vgg_model.layers[6].output\n",
    "    #Flatten as before\n",
    "\n",
    "    x2= Conv2D(64, (3, 3), padding=\"same\", activation=\"relu\")(x2)\n",
    "    x2=MaxPooling2D(pool_size=(2, 2))(x2)\n",
    "    x2= Conv2D(32, (3, 3), padding=\"same\", activation=\"relu\")(x2)\n",
    "\n",
    "    x2 = Flatten()(x2)\n",
    "\n",
    "    x2 = Dense(128, activation='relu')(x2) \n",
    "    x2 = Dense(1, activation='LeakyReLU')(x2)\n",
    "\n",
    "    from tensorflow.keras.models import Model\n",
    "    vgg_model_transfer_regr = Model(inputs=vgg_model.input, outputs=x2)\n",
    "    \n",
    "    return vgg_model_transfer_regr"
   ]
  },
  {
   "cell_type": "code",
   "execution_count": 27,
   "metadata": {},
   "outputs": [],
   "source": [
    "y_train=np.array(y_train)\n",
    "y_valid=np.array(y_valid)"
   ]
  },
  {
   "cell_type": "code",
   "execution_count": 28,
   "metadata": {
    "scrolled": true
   },
   "outputs": [
    {
     "name": "stderr",
     "output_type": "stream",
     "text": [
      "C:\\Users\\zeroo\\anaconda3\\lib\\site-packages\\keras\\optimizer_v2\\optimizer_v2.py:355: UserWarning: The `lr` argument is deprecated, use `learning_rate` instead.\n",
      "  warnings.warn(\n"
     ]
    },
    {
     "name": "stdout",
     "output_type": "stream",
     "text": [
      "Epoch 1/10\n",
      "10/10 [==============================] - 4s 235ms/step - loss: 37.7651 - mean_squared_error: 37.7651 - val_loss: 11.2409 - val_mean_squared_error: 11.2409\n",
      "Epoch 2/10\n",
      "10/10 [==============================] - 1s 70ms/step - loss: 5.5198 - mean_squared_error: 5.5198 - val_loss: 3.7175 - val_mean_squared_error: 3.7175\n",
      "Epoch 3/10\n",
      "10/10 [==============================] - 1s 70ms/step - loss: 2.8656 - mean_squared_error: 2.8656 - val_loss: 2.4008 - val_mean_squared_error: 2.4008\n",
      "Epoch 4/10\n",
      "10/10 [==============================] - 1s 70ms/step - loss: 2.2432 - mean_squared_error: 2.2432 - val_loss: 3.0135 - val_mean_squared_error: 3.0135\n",
      "Epoch 5/10\n",
      "10/10 [==============================] - 1s 71ms/step - loss: 2.0457 - mean_squared_error: 2.0457 - val_loss: 2.0151 - val_mean_squared_error: 2.0151\n",
      "Epoch 6/10\n",
      "10/10 [==============================] - 1s 70ms/step - loss: 1.6254 - mean_squared_error: 1.6254 - val_loss: 2.0074 - val_mean_squared_error: 2.0074\n",
      "Epoch 7/10\n",
      "10/10 [==============================] - 1s 69ms/step - loss: 1.4495 - mean_squared_error: 1.4495 - val_loss: 1.8585 - val_mean_squared_error: 1.8585\n",
      "Epoch 8/10\n",
      "10/10 [==============================] - 1s 69ms/step - loss: 1.1852 - mean_squared_error: 1.1852 - val_loss: 1.6598 - val_mean_squared_error: 1.6598\n",
      "Epoch 9/10\n",
      "10/10 [==============================] - 1s 70ms/step - loss: 1.0039 - mean_squared_error: 1.0039 - val_loss: 1.6227 - val_mean_squared_error: 1.6227\n",
      "Epoch 10/10\n",
      "10/10 [==============================] - 1s 69ms/step - loss: 0.9601 - mean_squared_error: 0.9601 - val_loss: 1.5408 - val_mean_squared_error: 1.5408\n"
     ]
    }
   ],
   "source": [
    "batchSize = 64\n",
    "nEpochs = 10\n",
    "\n",
    "SEED() \n",
    "vgg_model_transfer_regr = CR1()        \n",
    "\n",
    "\n",
    "sgd = tensorflow.keras.optimizers.SGD(lr=0.0008)\n",
    "vgg_model_transfer_regr.compile(loss='mse', \n",
    "                           optimizer='adam', \n",
    "                           metrics=['mean_squared_error'])\n",
    "\n",
    "\n",
    "history_regression = vgg_model_transfer_regr.fit(X_train, y_train, batch_size=batchSize, epochs=nEpochs, verbose=1, \n",
    "                                 validation_data=(X_valid, y_valid))\n"
   ]
  },
  {
   "cell_type": "code",
   "execution_count": 29,
   "metadata": {},
   "outputs": [],
   "source": [
    "#np.array([num if num < 5 else 5 for num in np.round(y_predict_prob_train_regr).astype(int)])"
   ]
  },
  {
   "cell_type": "code",
   "execution_count": 30,
   "metadata": {
    "scrolled": true
   },
   "outputs": [],
   "source": [
    "y_predict_prob_train_regr = vgg_model_transfer_regr.predict(X_train)\n",
    "\n",
    "y_predict_train_regr = np.array([num[0] if num < 5 else 5 for num in np.round(y_predict_prob_train_regr).astype(int)])\n"
   ]
  },
  {
   "cell_type": "code",
   "execution_count": 31,
   "metadata": {
    "scrolled": true
   },
   "outputs": [],
   "source": [
    "y_predict_prob_valid_regr = vgg_model_transfer_regr.predict(X_valid)\n",
    "\n",
    "y_predict_valid_regr = np.array([num[0] if num < 5 else 5 for num in np.round(y_predict_prob_valid_regr).astype(int)])"
   ]
  },
  {
   "cell_type": "code",
   "execution_count": 32,
   "metadata": {
    "scrolled": true
   },
   "outputs": [],
   "source": [
    "y_predict_prob_test_regr = vgg_model_transfer_regr.predict(X_test)\n",
    "\n",
    "y_predict_test_regr = np.array([num[0] if num < 5 else 5 for num in np.round(y_predict_prob_test_regr).astype(int)])"
   ]
  },
  {
   "cell_type": "code",
   "execution_count": 33,
   "metadata": {},
   "outputs": [
    {
     "name": "stdout",
     "output_type": "stream",
     "text": [
      "Mean squard error : 0.8825396825396825\n",
      "----------------------------\n",
      "\n",
      "Classification Report  : \n",
      "\n",
      "              precision    recall  f1-score   support\n",
      "\n",
      "           0       0.76      0.15      0.25       126\n",
      "           1       0.36      0.47      0.41       126\n",
      "           2       0.33      0.60      0.43       126\n",
      "           3       0.36      0.45      0.40       126\n",
      "           4       0.60      0.24      0.34       126\n",
      "           5       0.00      0.00      0.00         0\n",
      "\n",
      "    accuracy                           0.38       630\n",
      "   macro avg       0.40      0.32      0.30       630\n",
      "weighted avg       0.48      0.38      0.37       630\n",
      "\n"
     ]
    },
    {
     "name": "stderr",
     "output_type": "stream",
     "text": [
      "C:\\Users\\zeroo\\anaconda3\\lib\\site-packages\\sklearn\\metrics\\_classification.py:1308: UndefinedMetricWarning: Recall and F-score are ill-defined and being set to 0.0 in labels with no true samples. Use `zero_division` parameter to control this behavior.\n",
      "  _warn_prf(average, modifier, msg_start, len(result))\n",
      "C:\\Users\\zeroo\\anaconda3\\lib\\site-packages\\sklearn\\metrics\\_classification.py:1308: UndefinedMetricWarning: Recall and F-score are ill-defined and being set to 0.0 in labels with no true samples. Use `zero_division` parameter to control this behavior.\n",
      "  _warn_prf(average, modifier, msg_start, len(result))\n",
      "C:\\Users\\zeroo\\anaconda3\\lib\\site-packages\\sklearn\\metrics\\_classification.py:1308: UndefinedMetricWarning: Recall and F-score are ill-defined and being set to 0.0 in labels with no true samples. Use `zero_division` parameter to control this behavior.\n",
      "  _warn_prf(average, modifier, msg_start, len(result))\n"
     ]
    },
    {
     "data": {
      "image/png": "[encoded data removed]",
      "text/plain": [
       "<Figure size 1080x360 with 2 Axes>"
      ]
     },
     "metadata": {
      "needs_background": "light"
     },
     "output_type": "display_data"
    }
   ],
   "source": [
    "mse1=mean_squared_error(y_train,y_predict_train_regr)\n",
    "print('Mean squard error :',mse1)\n",
    "print('----------------------------')\n",
    "\n",
    "plotconf_nocla(y_train,y_predict_train_regr,'Confusion matrix for training')"
   ]
  },
  {
   "cell_type": "code",
   "execution_count": 34,
   "metadata": {},
   "outputs": [
    {
     "name": "stdout",
     "output_type": "stream",
     "text": [
      "Mean squard error : 1.6962962962962962\n",
      "----------------------------\n",
      "\n",
      "Classification Report  : \n",
      "\n",
      "              precision    recall  f1-score   support\n",
      "\n",
      "           0       0.43      0.11      0.18        54\n",
      "           1       0.33      0.33      0.33        54\n",
      "           2       0.23      0.48      0.32        54\n",
      "           3       0.32      0.43      0.37        54\n",
      "           4       0.24      0.07      0.11        54\n",
      "           5       0.00      0.00      0.00         0\n",
      "\n",
      "    accuracy                           0.29       270\n",
      "   macro avg       0.26      0.24      0.22       270\n",
      "weighted avg       0.31      0.29      0.26       270\n",
      "\n"
     ]
    },
    {
     "name": "stderr",
     "output_type": "stream",
     "text": [
      "C:\\Users\\zeroo\\anaconda3\\lib\\site-packages\\sklearn\\metrics\\_classification.py:1308: UndefinedMetricWarning: Recall and F-score are ill-defined and being set to 0.0 in labels with no true samples. Use `zero_division` parameter to control this behavior.\n",
      "  _warn_prf(average, modifier, msg_start, len(result))\n",
      "C:\\Users\\zeroo\\anaconda3\\lib\\site-packages\\sklearn\\metrics\\_classification.py:1308: UndefinedMetricWarning: Recall and F-score are ill-defined and being set to 0.0 in labels with no true samples. Use `zero_division` parameter to control this behavior.\n",
      "  _warn_prf(average, modifier, msg_start, len(result))\n",
      "C:\\Users\\zeroo\\anaconda3\\lib\\site-packages\\sklearn\\metrics\\_classification.py:1308: UndefinedMetricWarning: Recall and F-score are ill-defined and being set to 0.0 in labels with no true samples. Use `zero_division` parameter to control this behavior.\n",
      "  _warn_prf(average, modifier, msg_start, len(result))\n"
     ]
    },
    {
     "data": {
      "image/png": "[encoded data removed]",
      "text/plain": [
       "<Figure size 1080x360 with 2 Axes>"
      ]
     },
     "metadata": {
      "needs_background": "light"
     },
     "output_type": "display_data"
    }
   ],
   "source": [
    "mse2=mean_squared_error(y_valid,y_predict_valid_regr)\n",
    "print('Mean squard error :',mse2)\n",
    "print('----------------------------')\n",
    "\n",
    "plotconf_nocla(y_valid,y_predict_valid_regr,'Confusion matrix for validtion')"
   ]
  },
  {
   "cell_type": "code",
   "execution_count": 35,
   "metadata": {},
   "outputs": [
    {
     "name": "stdout",
     "output_type": "stream",
     "text": [
      "Mean squard error : 1.77\n",
      "----------------------------\n",
      "\n",
      "Classification Report  : \n",
      "\n",
      "              precision    recall  f1-score   support\n",
      "\n",
      "           0       0.50      0.05      0.09        20\n",
      "           1       0.32      0.40      0.36        20\n",
      "           2       0.21      0.45      0.29        20\n",
      "           3       0.32      0.40      0.36        20\n",
      "           4       0.60      0.15      0.24        20\n",
      "           5       0.00      0.00      0.00         0\n",
      "\n",
      "    accuracy                           0.29       100\n",
      "   macro avg       0.33      0.24      0.22       100\n",
      "weighted avg       0.39      0.29      0.27       100\n",
      "\n"
     ]
    },
    {
     "name": "stderr",
     "output_type": "stream",
     "text": [
      "C:\\Users\\zeroo\\anaconda3\\lib\\site-packages\\sklearn\\metrics\\_classification.py:1308: UndefinedMetricWarning: Recall and F-score are ill-defined and being set to 0.0 in labels with no true samples. Use `zero_division` parameter to control this behavior.\n",
      "  _warn_prf(average, modifier, msg_start, len(result))\n",
      "C:\\Users\\zeroo\\anaconda3\\lib\\site-packages\\sklearn\\metrics\\_classification.py:1308: UndefinedMetricWarning: Recall and F-score are ill-defined and being set to 0.0 in labels with no true samples. Use `zero_division` parameter to control this behavior.\n",
      "  _warn_prf(average, modifier, msg_start, len(result))\n",
      "C:\\Users\\zeroo\\anaconda3\\lib\\site-packages\\sklearn\\metrics\\_classification.py:1308: UndefinedMetricWarning: Recall and F-score are ill-defined and being set to 0.0 in labels with no true samples. Use `zero_division` parameter to control this behavior.\n",
      "  _warn_prf(average, modifier, msg_start, len(result))\n"
     ]
    },
    {
     "data": {
      "image/png": "[encoded data removed]",
      "text/plain": [
       "<Figure size 1080x360 with 2 Axes>"
      ]
     },
     "metadata": {
      "needs_background": "light"
     },
     "output_type": "display_data"
    }
   ],
   "source": [
    "mse3=mean_squared_error(y_test,y_predict_test_regr)\n",
    "print('Mean squard error :',mse3)\n",
    "print('----------------------------')\n",
    "\n",
    "plotconf_nocla(y_test,y_predict_test_regr,'Confusion matrix for testing')"
   ]
  },
  {
   "cell_type": "markdown",
   "metadata": {},
   "source": [
    "### Learning curves"
   ]
  },
  {
   "cell_type": "code",
   "execution_count": 36,
   "metadata": {
    "scrolled": true
   },
   "outputs": [
    {
     "data": {
      "image/png": "[encoded data removed]",
      "text/plain": [
       "<Figure size 432x288 with 1 Axes>"
      ]
     },
     "metadata": {
      "needs_background": "light"
     },
     "output_type": "display_data"
    }
   ],
   "source": [
    "# dictionary keys seems to have changed in version 2\n",
    "k = ''\n",
    "if 'mean_squared_error' in history_regression.history :\n",
    "    k = 'mean_squared_error'    \n",
    "\n",
    "if 'mse' in history_regression.history :\n",
    "    k = 'mse'\n",
    "    \n",
    "if k != '' :    \n",
    "    plt.plot(history_regression.history[k])\n",
    "    plt.plot(history_regression.history['val_'+k])\n",
    "    plt.title('Model MSE')\n",
    "    plt.ylabel('MSE')\n",
    "    plt.xlabel('Epoch')\n",
    "    plt.legend(['train', 'valid'], loc='upper left')\n",
    "    plt.show()\n"
   ]
  },
  {
   "cell_type": "markdown",
   "metadata": {},
   "source": [
    "----------\n",
    "\n",
    "## 3.3 Discussion\n",
    "----------\n"
   ]
  },
  {
   "cell_type": "markdown",
   "metadata": {},
   "source": [
    "### 3.1 classification\n",
    "Yes, there is over fitting occuring as the size of the data is quite small, and from the learning curve the validation is away from the training one which is very bad , Furthermore the testing is away from the validation and training one according to classification metrics (Acc/ Train: 95%,Valid:47%, Test:38%)"
   ]
  },
  {
   "cell_type": "markdown",
   "metadata": {},
   "source": [
    "### 3.2 Regression\n",
    "No, there is under-fitting occuring as the training metrics and specially acc are very low 38% , furthermore from the learning curve the validation is a bit near from the training one (loss of validation is near the training starting from the 3rd epoch)  which is so bad , also the testing a bit near the validation and a bit near training one according to regression metrics (confusion matrix and MSE)."
   ]
  },
  {
   "cell_type": "markdown",
   "metadata": {},
   "source": [
    "##### From the discussion we will choose the classification one as it performs better.\n"
   ]
  },
  {
   "cell_type": "markdown",
   "metadata": {},
   "source": [
    "----------\n",
    "## 4.1 Regularization \n",
    "----------"
   ]
  },
  {
   "cell_type": "markdown",
   "metadata": {},
   "source": [
    "### classification"
   ]
  },
  {
   "cell_type": "code",
   "execution_count": 37,
   "metadata": {
    "scrolled": true
   },
   "outputs": [],
   "source": [
    "#For classification\n",
    "def CN2():\n",
    "    for layer in vgg_model.layers:\n",
    "        layer.trainable = False\n",
    "\n",
    "    # We will have to use the functional API    \n",
    "\n",
    "    # last layers output\n",
    "    x3 = vgg_model.layers[6].output\n",
    "\n",
    "    x3= Conv2D(64, (3, 3), padding=\"same\", activation=\"relu\")(x3)\n",
    "    x3=BatchNormalization()(x3)\n",
    "\n",
    "    x3=MaxPooling2D(pool_size=(2, 2))(x3)\n",
    "\n",
    "    x3= Conv2D(32, (3, 3), padding=\"same\", activation=\"relu\")(x3)\n",
    "\n",
    "    x3 = Flatten()(x3)\n",
    "    x3 = Dropout(0.01)(x3)\n",
    "\n",
    "\n",
    "    x3 = Dense(128, activation='relu')(x3)\n",
    "    x3 = Dense(5, activation='softmax')(x3)\n",
    "\n",
    "    from tensorflow.keras.models import Model\n",
    "    vgg_model_transfer_regul = Model(inputs=vgg_model.input, outputs=x3)\n",
    "    \n",
    "    return vgg_model_transfer_regul "
   ]
  },
  {
   "cell_type": "code",
   "execution_count": 38,
   "metadata": {
    "scrolled": true
   },
   "outputs": [
    {
     "name": "stderr",
     "output_type": "stream",
     "text": [
      "C:\\Users\\zeroo\\anaconda3\\lib\\site-packages\\keras\\optimizer_v2\\optimizer_v2.py:355: UserWarning: The `lr` argument is deprecated, use `learning_rate` instead.\n",
      "  warnings.warn(\n"
     ]
    },
    {
     "name": "stdout",
     "output_type": "stream",
     "text": [
      "Epoch 1/10\n",
      "79/79 [==============================] - 2s 25ms/step - loss: 1.6133 - accuracy: 0.2968 - val_loss: 1.5476 - val_accuracy: 0.3778\n",
      "Epoch 2/10\n",
      "79/79 [==============================] - 6s 77ms/step - loss: 1.1829 - accuracy: 0.5032 - val_loss: 1.2914 - val_accuracy: 0.4185\n",
      "Epoch 3/10\n",
      "79/79 [==============================] - 7s 92ms/step - loss: 0.8489 - accuracy: 0.6968 - val_loss: 1.3399 - val_accuracy: 0.4111\n",
      "Epoch 4/10\n",
      "79/79 [==============================] - 7s 88ms/step - loss: 0.6903 - accuracy: 0.7206 - val_loss: 1.7429 - val_accuracy: 0.4370\n",
      "Epoch 5/10\n",
      "79/79 [==============================] - 9s 113ms/step - loss: 0.4639 - accuracy: 0.8397 - val_loss: 1.3879 - val_accuracy: 0.5000\n",
      "Epoch 6/10\n",
      "79/79 [==============================] - 7s 85ms/step - loss: 0.3097 - accuracy: 0.8825 - val_loss: 1.5869 - val_accuracy: 0.4963\n",
      "Epoch 7/10\n",
      "79/79 [==============================] - 6s 73ms/step - loss: 0.2069 - accuracy: 0.9302 - val_loss: 1.4239 - val_accuracy: 0.4704\n",
      "Epoch 8/10\n",
      "79/79 [==============================] - 3s 24ms/step - loss: 0.2309 - accuracy: 0.9143 - val_loss: 1.8044 - val_accuracy: 0.5185\n",
      "Epoch 9/10\n",
      "79/79 [==============================] - 6s 82ms/step - loss: 0.1876 - accuracy: 0.9381 - val_loss: 1.7079 - val_accuracy: 0.4889\n",
      "Epoch 10/10\n",
      "79/79 [==============================] - 7s 91ms/step - loss: 0.0576 - accuracy: 0.9857 - val_loss: 1.8451 - val_accuracy: 0.5222\n"
     ]
    }
   ],
   "source": [
    "\n",
    "batchSize = 8\n",
    "nEpochs = 10\n",
    "\n",
    "SEED()    \n",
    "vgg_model_transfer_regul = CN2()        \n",
    "   \n",
    "sgd = tensorflow.keras.optimizers.SGD(lr=0.0008)\n",
    "vgg_model_transfer_regul.compile(loss='categorical_crossentropy', \n",
    "                           optimizer='adam', \n",
    "                           metrics=['accuracy'])\n",
    "\n",
    "\n",
    "history_regul = vgg_model_transfer_regul.fit(X_train, y_train_k, batch_size=batchSize, epochs=nEpochs, verbose=1, \n",
    "                                 validation_data=(X_valid, y_valid_k))\n"
   ]
  },
  {
   "cell_type": "code",
   "execution_count": 39,
   "metadata": {},
   "outputs": [],
   "source": [
    "y_predict_prob_train_regul = vgg_model_transfer_regul.predict(X_train)\n",
    "\n",
    "y_predict_train_regul = y_predict_prob_train_regul.argmax(axis=-1)"
   ]
  },
  {
   "cell_type": "code",
   "execution_count": 40,
   "metadata": {},
   "outputs": [
    {
     "name": "stdout",
     "output_type": "stream",
     "text": [
      "\n",
      "Classification Report  : \n",
      "\n",
      "              precision    recall  f1-score   support\n",
      "\n",
      "           0       0.98      1.00      0.99       126\n",
      "           1       1.00      0.99      1.00       126\n",
      "           2       1.00      0.99      1.00       126\n",
      "           3       1.00      0.99      1.00       126\n",
      "           4       1.00      1.00      1.00       126\n",
      "\n",
      "    accuracy                           1.00       630\n",
      "   macro avg       1.00      1.00      1.00       630\n",
      "weighted avg       1.00      1.00      1.00       630\n",
      "\n"
     ]
    },
    {
     "data": {
      "image/png": "[encoded data removed]",
      "text/plain": [
       "<Figure size 1080x360 with 2 Axes>"
      ]
     },
     "metadata": {
      "needs_background": "light"
     },
     "output_type": "display_data"
    }
   ],
   "source": [
    "plotconf_cla(y_train_k,y_predict_train_regul,'Confusion matrix for training')"
   ]
  },
  {
   "cell_type": "code",
   "execution_count": 41,
   "metadata": {},
   "outputs": [],
   "source": [
    "y_predict_prob_valid_regul = vgg_model_transfer_regul.predict(X_valid)\n",
    "\n",
    "y_predict_valid_regul = y_predict_prob_valid_regul.argmax(axis=-1)"
   ]
  },
  {
   "cell_type": "code",
   "execution_count": 42,
   "metadata": {},
   "outputs": [
    {
     "name": "stdout",
     "output_type": "stream",
     "text": [
      "\n",
      "Classification Report  : \n",
      "\n",
      "              precision    recall  f1-score   support\n",
      "\n",
      "           0       0.52      0.89      0.65        54\n",
      "           1       0.63      0.48      0.55        54\n",
      "           2       0.47      0.28      0.35        54\n",
      "           3       0.43      0.37      0.40        54\n",
      "           4       0.56      0.59      0.58        54\n",
      "\n",
      "    accuracy                           0.52       270\n",
      "   macro avg       0.52      0.52      0.50       270\n",
      "weighted avg       0.52      0.52      0.50       270\n",
      "\n"
     ]
    },
    {
     "data": {
      "image/png": "[encoded data removed]",
      "text/plain": [
       "<Figure size 1080x360 with 2 Axes>"
      ]
     },
     "metadata": {
      "needs_background": "light"
     },
     "output_type": "display_data"
    }
   ],
   "source": [
    "plotconf_cla(y_valid_k,y_predict_valid_regul,'Confusion matrix for validtion')"
   ]
  },
  {
   "cell_type": "code",
   "execution_count": 43,
   "metadata": {},
   "outputs": [],
   "source": [
    "y_predict_prob_test_regul = vgg_model_transfer_regul.predict(X_test)\n",
    "\n",
    "y_predict_test_regul = y_predict_prob_test_regul.argmax(axis=-1)"
   ]
  },
  {
   "cell_type": "code",
   "execution_count": 44,
   "metadata": {},
   "outputs": [
    {
     "name": "stdout",
     "output_type": "stream",
     "text": [
      "\n",
      "Classification Report  : \n",
      "\n",
      "              precision    recall  f1-score   support\n",
      "\n",
      "           0       0.38      0.70      0.49        20\n",
      "           1       0.42      0.40      0.41        20\n",
      "           2       0.31      0.20      0.24        20\n",
      "           3       0.42      0.40      0.41        20\n",
      "           4       0.58      0.35      0.44        20\n",
      "\n",
      "    accuracy                           0.41       100\n",
      "   macro avg       0.42      0.41      0.40       100\n",
      "weighted avg       0.42      0.41      0.40       100\n",
      "\n"
     ]
    },
    {
     "data": {
      "image/png": "[encoded data removed]",
      "text/plain": [
       "<Figure size 1080x360 with 2 Axes>"
      ]
     },
     "metadata": {
      "needs_background": "light"
     },
     "output_type": "display_data"
    }
   ],
   "source": [
    "plotconf_cla(y_test_k,y_predict_test_regul,'Confusion matrix for testing')"
   ]
  },
  {
   "cell_type": "code",
   "execution_count": 45,
   "metadata": {},
   "outputs": [
    {
     "data": {
      "image/png": "[encoded data removed]",
      "text/plain": [
       "<Figure size 432x288 with 1 Axes>"
      ]
     },
     "metadata": {
      "needs_background": "light"
     },
     "output_type": "display_data"
    }
   ],
   "source": [
    "# dictionary keys seems to have changed in version 2\n",
    "k = ''\n",
    "if 'accuracy' in history_regul.history :\n",
    "    k = 'accuracy'    \n",
    "\n",
    "if 'acc' in history_regul.history :\n",
    "    k = 'acc'\n",
    "    \n",
    "if k != '' :    \n",
    "    plt.plot(history_regul.history[k])\n",
    "    plt.plot(history_regul.history['val_'+k])\n",
    "    plt.title('Model Accuracy')\n",
    "    plt.ylabel('Accuracy')\n",
    "    plt.xlabel('Epoch')\n",
    "    plt.legend(['train', 'valid'], loc='upper left')\n",
    "    plt.show()\n"
   ]
  },
  {
   "cell_type": "markdown",
   "metadata": {},
   "source": [
    "## 5. Data Augmentation"
   ]
  },
  {
   "cell_type": "code",
   "execution_count": 82,
   "metadata": {},
   "outputs": [],
   "source": [
    "from tensorflow import keras\n",
    "\n",
    "data_augmentation = tf.keras.Sequential([\n",
    "   tf.keras.layers.RandomFlip(\"horizontal\"),\n",
    "   tf.keras.layers.RandomRotation(0.4),\n",
    "   tf.keras.layers.RandomZoom(0.1) \n",
    "])\n",
    "\n",
    "#x_train_aug =data_augmentation(X_train)"
   ]
  },
  {
   "cell_type": "code",
   "execution_count": 47,
   "metadata": {},
   "outputs": [],
   "source": [
    "aug=data_augmentation(X_train)\n",
    "\n",
    "X_train_aug_new=np.concatenate((X_train, aug))"
   ]
  },
  {
   "cell_type": "code",
   "execution_count": 48,
   "metadata": {},
   "outputs": [],
   "source": [
    "y_train_conc=np.concatenate((y_train_k, y_train_k))"
   ]
  },
  {
   "cell_type": "markdown",
   "metadata": {},
   "source": [
    "### classification"
   ]
  },
  {
   "cell_type": "code",
   "execution_count": 105,
   "metadata": {},
   "outputs": [
    {
     "name": "stderr",
     "output_type": "stream",
     "text": [
      "C:\\Users\\zeroo\\anaconda3\\lib\\site-packages\\keras\\optimizer_v2\\optimizer_v2.py:355: UserWarning: The `lr` argument is deprecated, use `learning_rate` instead.\n",
      "  warnings.warn(\n"
     ]
    },
    {
     "name": "stdout",
     "output_type": "stream",
     "text": [
      "Epoch 1/10\n",
      "158/158 [==============================] - 4s 20ms/step - loss: 1.5323 - accuracy: 0.3286 - val_loss: 1.3785 - val_accuracy: 0.3963\n",
      "Epoch 2/10\n",
      "158/158 [==============================] - 3s 18ms/step - loss: 1.1861 - accuracy: 0.5111 - val_loss: 1.3586 - val_accuracy: 0.3556\n",
      "Epoch 3/10\n",
      "158/158 [==============================] - 3s 17ms/step - loss: 0.9382 - accuracy: 0.6103 - val_loss: 1.2688 - val_accuracy: 0.4815\n",
      "Epoch 4/10\n",
      "158/158 [==============================] - 3s 17ms/step - loss: 0.7624 - accuracy: 0.7016 - val_loss: 1.2298 - val_accuracy: 0.4889\n",
      "Epoch 5/10\n",
      "158/158 [==============================] - 3s 17ms/step - loss: 0.5862 - accuracy: 0.7579 - val_loss: 1.5936 - val_accuracy: 0.4481\n",
      "Epoch 6/10\n",
      "158/158 [==============================] - 3s 17ms/step - loss: 0.4877 - accuracy: 0.8183 - val_loss: 1.6925 - val_accuracy: 0.4444\n",
      "Epoch 7/10\n",
      "158/158 [==============================] - 3s 17ms/step - loss: 0.3265 - accuracy: 0.8849 - val_loss: 1.3309 - val_accuracy: 0.5185\n",
      "Epoch 8/10\n",
      "158/158 [==============================] - 3s 18ms/step - loss: 0.2304 - accuracy: 0.9190 - val_loss: 1.6662 - val_accuracy: 0.4963\n",
      "Epoch 9/10\n",
      "158/158 [==============================] - 3s 17ms/step - loss: 0.2020 - accuracy: 0.9278 - val_loss: 1.8086 - val_accuracy: 0.4963\n",
      "Epoch 10/10\n",
      "158/158 [==============================] - 3s 17ms/step - loss: 0.2038 - accuracy: 0.9183 - val_loss: 2.4638 - val_accuracy: 0.5185\n"
     ]
    }
   ],
   "source": [
    "batchSize = 8\n",
    "nEpochs = 10\n",
    "\n",
    "\n",
    "SEED()\n",
    "vgg_model_transfer_regul_aug=CN2()\n",
    "\n",
    "sgd = tensorflow.keras.optimizers.SGD(lr=0.0008)\n",
    "vgg_model_transfer_regul_aug.compile(loss='categorical_crossentropy', \n",
    "                           optimizer='adam', \n",
    "                           metrics=['accuracy'])\n",
    "\n",
    "\n",
    "history_regul_aug = vgg_model_transfer_regul_aug.fit(X_train_aug_new, y_train_conc, batch_size=batchSize, epochs=nEpochs, verbose=1, \n",
    "                                 validation_data=(X_valid, y_valid_k))\n"
   ]
  },
  {
   "cell_type": "code",
   "execution_count": 106,
   "metadata": {},
   "outputs": [],
   "source": [
    "y_predict_prob_train_regul_aug = vgg_model_transfer_regul_aug.predict(X_train_aug_new)\n",
    "\n",
    "y_predict_train_regul_aug = y_predict_prob_train_regul_aug.argmax(axis=-1)"
   ]
  },
  {
   "cell_type": "code",
   "execution_count": 107,
   "metadata": {},
   "outputs": [
    {
     "name": "stdout",
     "output_type": "stream",
     "text": [
      "\n",
      "Classification Report  : \n",
      "\n",
      "              precision    recall  f1-score   support\n",
      "\n",
      "           0       0.99      0.94      0.96       252\n",
      "           1       0.71      1.00      0.83       252\n",
      "           2       0.94      0.79      0.86       252\n",
      "           3       0.87      0.85      0.86       252\n",
      "           4       1.00      0.81      0.90       252\n",
      "\n",
      "    accuracy                           0.88      1260\n",
      "   macro avg       0.90      0.88      0.88      1260\n",
      "weighted avg       0.90      0.88      0.88      1260\n",
      "\n"
     ]
    },
    {
     "data": {
      "image/png": "[encoded data removed]",
      "text/plain": [
       "<Figure size 1080x360 with 2 Axes>"
      ]
     },
     "metadata": {
      "needs_background": "light"
     },
     "output_type": "display_data"
    }
   ],
   "source": [
    "plotconf_cla(y_train_conc,y_predict_train_regul_aug,'Confusion matrix for training')"
   ]
  },
  {
   "cell_type": "code",
   "execution_count": 108,
   "metadata": {},
   "outputs": [],
   "source": [
    "y_predict_prob_valid_aug = vgg_model_transfer_regul_aug.predict(X_valid)\n",
    "\n",
    "y_predict_valid_regul_aug = y_predict_prob_valid_aug.argmax(axis=-1)"
   ]
  },
  {
   "cell_type": "code",
   "execution_count": 109,
   "metadata": {},
   "outputs": [
    {
     "name": "stdout",
     "output_type": "stream",
     "text": [
      "\n",
      "Classification Report  : \n",
      "\n",
      "              precision    recall  f1-score   support\n",
      "\n",
      "           0       0.75      0.76      0.75        54\n",
      "           1       0.41      0.85      0.56        54\n",
      "           2       0.43      0.22      0.29        54\n",
      "           3       0.46      0.48      0.47        54\n",
      "           4       0.79      0.28      0.41        54\n",
      "\n",
      "    accuracy                           0.52       270\n",
      "   macro avg       0.57      0.52      0.50       270\n",
      "weighted avg       0.57      0.52      0.50       270\n",
      "\n"
     ]
    },
    {
     "data": {
      "image/png": "[encoded data removed]",
      "text/plain": [
       "<Figure size 1080x360 with 2 Axes>"
      ]
     },
     "metadata": {
      "needs_background": "light"
     },
     "output_type": "display_data"
    }
   ],
   "source": [
    "plotconf_cla(y_valid_k,y_predict_valid_regul_aug,'Confusion matrix for validation')"
   ]
  },
  {
   "cell_type": "code",
   "execution_count": 110,
   "metadata": {},
   "outputs": [],
   "source": [
    "y_predict_prob_test_regul_aug = vgg_model_transfer_regul_aug.predict(X_test)\n",
    "\n",
    "y_predict_test_regul_aug = y_predict_prob_test_regul_aug.argmax(axis=-1)"
   ]
  },
  {
   "cell_type": "code",
   "execution_count": 111,
   "metadata": {},
   "outputs": [
    {
     "name": "stdout",
     "output_type": "stream",
     "text": [
      "\n",
      "Classification Report  : \n",
      "\n",
      "              precision    recall  f1-score   support\n",
      "\n",
      "           0       0.53      0.50      0.51        20\n",
      "           1       0.37      0.75      0.49        20\n",
      "           2       0.50      0.35      0.41        20\n",
      "           3       0.42      0.50      0.45        20\n",
      "           4       0.50      0.05      0.09        20\n",
      "\n",
      "    accuracy                           0.43       100\n",
      "   macro avg       0.46      0.43      0.39       100\n",
      "weighted avg       0.46      0.43      0.39       100\n",
      "\n"
     ]
    },
    {
     "data": {
      "image/png": "[encoded data removed]",
      "text/plain": [
       "<Figure size 1080x360 with 2 Axes>"
      ]
     },
     "metadata": {
      "needs_background": "light"
     },
     "output_type": "display_data"
    }
   ],
   "source": [
    "plotconf_cla(y_test_k,y_predict_test_regul_aug,'Confusion matrix for testing')"
   ]
  },
  {
   "cell_type": "markdown",
   "metadata": {},
   "source": [
    "### Learning curve"
   ]
  },
  {
   "cell_type": "code",
   "execution_count": 112,
   "metadata": {},
   "outputs": [
    {
     "data": {
      "image/png": "[encoded data removed]",
      "text/plain": [
       "<Figure size 432x288 with 1 Axes>"
      ]
     },
     "metadata": {
      "needs_background": "light"
     },
     "output_type": "display_data"
    }
   ],
   "source": [
    "# dictionary keys seems to have changed in version 2\n",
    "k = ''\n",
    "if 'accuracy' in history_regul_aug.history :\n",
    "    k = 'accuracy'    \n",
    "\n",
    "if 'acc' in history_regul_aug.history :\n",
    "    k = 'acc'\n",
    "    \n",
    "if k != '' :    \n",
    "    plt.plot(history_regul_aug.history[k])\n",
    "    plt.plot(history_regul_aug.history['val_'+k])\n",
    "    plt.title('Model Accuracy')\n",
    "    plt.ylabel('Accuracy')\n",
    "    plt.xlabel('Epoch')\n",
    "    plt.legend(['train', 'valid'], loc='upper left')\n",
    "    plt.show()\n"
   ]
  },
  {
   "cell_type": "markdown",
   "metadata": {},
   "source": [
    "## 5.1 Discussion"
   ]
  },
  {
   "cell_type": "markdown",
   "metadata": {},
   "source": [
    "### according to the metrics of classification report and confusion matrix in Q4.1 and Q5 there is improvement but not that large , and according to the learning curves there is still over fitting occuring but we can feel the improvement in the metrics which means we can observe a a good improvement using the best regularization methods and data augmentation methods after a lot of tries when choosing the best suitable ones ."
   ]
  }
 ],
 "metadata": {
  "kernelspec": {
   "display_name": "Python 3",
   "language": "python",
   "name": "python3"
  },
  "language_info": {
   "codemirror_mode": {
    "name": "ipython",
    "version": 3
   },
   "file_extension": ".py",
   "mimetype": "text/x-python",
   "name": "python",
   "nbconvert_exporter": "python",
   "pygments_lexer": "ipython3",
   "version": "3.8.5"
  }
 },
 "nbformat": 4,
 "nbformat_minor": 4
}
