{
 "cells": [
  {
   "cell_type": "markdown",
   "metadata": {},
   "source": [
    "# Importing required libraries"
   ]
  },
  {
   "cell_type": "code",
   "execution_count": 1,
   "metadata": {},
   "outputs": [],
   "source": [
    "#importing libraries\n",
    "import os\n",
    "import numpy as np\n",
    "import pandas as pd\n",
    "from skimage import io\n",
    "import seaborn as sns\n",
    "import matplotlib.pyplot as plt\n",
    "from skimage.color import rgb2gray\n",
    "from skimage.transform import resize\n",
    "from sklearn.linear_model import LogisticRegression\n",
    "from sklearn.model_selection import train_test_split\n",
    "from sklearn.metrics import confusion_matrix,plot_confusion_matrix\n",
    "from sklearn.metrics import plot_roc_curve,roc_curve, roc_auc_score,auc\n",
    "from sklearn.metrics import accuracy_score,precision_score,recall_score,f1_score\n"
   ]
  },
  {
   "cell_type": "markdown",
   "metadata": {},
   "source": [
    "## Reading the Folders "
   ]
  },
  {
   "cell_type": "code",
   "execution_count": 2,
   "metadata": {},
   "outputs": [],
   "source": [
    "os.listdir(path='.')\n",
    "\n",
    "def getListOfFiles(dirName):\n",
    "    \n",
    "    listOfFile = os.listdir(dirName)\n",
    "    allFiles = list()\n",
    "    \n",
    "    for i in listOfFile:\n",
    "        fullPath = os.path.join(dirName, i)\n",
    "        if os.path.isdir(fullPath):\n",
    "            allFiles = allFiles + getListOfFiles(fullPath)\n",
    "        else:\n",
    "            allFiles.append(fullPath)\n",
    "                \n",
    "    return allFiles        \n",
    "\n",
    "\n",
    "dirName = 'EnglishImg\\English\\Img\\GoodImg\\Bmp'\n",
    "\n",
    "listOfFiles = getListOfFiles(dirName)\n",
    "\n",
    "listOfFiles = list()\n",
    "for (dirpath, dirnames, filenames) in os.walk(dirName):\n",
    "    listOfFiles += [os.path.join(dirpath, file) for file in filenames]\n",
    "\n",
    "\n",
    "# for i in listOfFiles:\n",
    "#     print(i)    "
   ]
  },
  {
   "cell_type": "code",
   "execution_count": 3,
   "metadata": {
    "scrolled": true
   },
   "outputs": [],
   "source": [
    "#Specifying the 4 folders\n",
    "folder_names = [\"Sample009\", \"Sample017\", \"Sample051\", \"Sample053\"]\n",
    "\n",
    "listOfFiles = [f for f in listOfFiles if any([n in f for n in folder_names])]\n",
    "#print(listOfFiles)"
   ]
  },
  {
   "cell_type": "markdown",
   "metadata": {},
   "source": [
    "## Reading the images for preproccesing"
   ]
  },
  {
   "cell_type": "code",
   "execution_count": 4,
   "metadata": {
    "scrolled": false
   },
   "outputs": [
    {
     "name": "stderr",
     "output_type": "stream",
     "text": [
      "<ipython-input-4-d2a9287cea0d>:6: FutureWarning: The behavior of rgb2gray will change in scikit-image 0.19. Currently, rgb2gray allows 2D grayscale image to be passed as inputs and leaves them unmodified as outputs. Starting from version 0.19, 2D arrays will be treated as 1D images with 3 channels.\n",
      "  x = rgb2gray(i)\n"
     ]
    }
   ],
   "source": [
    "imgs = [io.imread(file) for file in listOfFiles]\n",
    "\n",
    "processed_imgs = []\n",
    "\n",
    "for i in imgs:\n",
    "    x = rgb2gray(i)\n",
    "    x = resize(x, (40, 40))\n",
    "    x = x.reshape((40*40))\n",
    "    processed_imgs.append(x)\n",
    "    \n",
    "processed_imgs = np.array(processed_imgs)"
   ]
  },
  {
   "cell_type": "markdown",
   "metadata": {},
   "source": [
    "# For binary classifers Case \n",
    "\n",
    "O = Label 0 , q = Label 1 / G = Label 0 , 8 = Label 1"
   ]
  },
  {
   "cell_type": "code",
   "execution_count": 5,
   "metadata": {},
   "outputs": [],
   "source": [
    "#Preparing features X and label for binary case\n",
    "\n",
    "#Folder 8: 32 img , G : 143 ,o : 148 , q :54 \n",
    "\n",
    "list_o = [ ] \n",
    "list_q = [ ] \n",
    "list_8 = [ ] \n",
    "list_G = [ ] \n",
    "\n",
    "for x in range(  0 , 32  , 1 ) :\n",
    "    \n",
    "    list_8.append(  processed_imgs[x]  )\n",
    "        \n",
    "for x in range(  32 , (32 + 143 )  , 1 ) :\n",
    "    \n",
    "    list_G.append(  processed_imgs[x]  )\n",
    "          \n",
    "for x in range(  (32 + 143 ) , (32+143+148)  , 1 ) :\n",
    "    \n",
    "     list_o.append(  processed_imgs[x]  )\n",
    "    \n",
    "for x in range(  (32+143+148) , (32+143+148+54)  , 1 ) :\n",
    "    \n",
    "    list_q.append(  processed_imgs[x]  )\n",
    "    \n",
    "        \n",
    "list_oq = [ ]\n",
    "list_oq_category = [ ]\n",
    "\n",
    "list_G8 = [ ]\n",
    "list_G8_category = [ ]\n",
    "\n",
    "\n",
    "for x in range( len( list_o ) ):\n",
    "    list_oq.append( list_o[x] )\n",
    "    list_oq_category.append( 0 )\n",
    "    \n",
    "\n",
    "for x in range( len( list_q ) ):\n",
    "    list_oq.append( list_q[x] )\n",
    "    list_oq_category.append( 1 )\n",
    "    \n",
    "for x in range( len( list_G ) ):\n",
    "    list_G8.append( list_G[x] )\n",
    "    list_G8_category.append( 0 )\n",
    "    \n",
    "\n",
    "for x in range( len( list_8 ) ):\n",
    "    list_G8.append( list_8[x] )\n",
    "    list_G8_category.append( 1 ) \n",
    "        "
   ]
  },
  {
   "cell_type": "markdown",
   "metadata": {},
   "source": [
    "## -----------------------------------------------------------------------------------------------------------------------------\n",
    "\n",
    "# I used training, testing and validation split as an answer to the assignment but i did not use it as i did not need hyperparameter tuning for the model in the assignment\n",
    "\n"
   ]
  },
  {
   "cell_type": "markdown",
   "metadata": {},
   "source": [
    "## Explaining why i am using startify splitting method  :Stratified sampling is a sampling technique where the samples are selected in the same proportion (by dividing the population into groups called 'strata' based on a characteristic) as they appear in the population. \n",
    "\n",
    "For ex : class 0 =70% ,class =1 30% in the whole dataset \n",
    "\n",
    "here we used startify method as we need to make the percentenge of first class ( for example class 0 ) exist in the validation and testing and training with suitable propotions in the dataset to avoid making only one class exists in training only and the others contain one class not 2 classes.\n",
    "## -----------------------------------------------------------------------------------------------------------------------------"
   ]
  },
  {
   "cell_type": "markdown",
   "metadata": {},
   "source": [
    "## Splitting data for o,q case  "
   ]
  },
  {
   "cell_type": "code",
   "execution_count": 6,
   "metadata": {},
   "outputs": [],
   "source": [
    "# In the first step we will split the data in training and remaining dataset\n",
    "x_oq_train, X_remoq, y_oq_train, y_remoq = train_test_split( list_oq,list_oq_category, train_size=0.8, random_state=42, stratify=list_oq_category)\n",
    "\n",
    "# Now since we want the valid and test size to be equal (10% each of overall data). \n",
    "# we have to define valid_size=0.5 (that is 50% of remaining data)\n",
    "test_size = 0.5\n",
    "X_validoq, x_oq_test, y_validoq, y_oq_test = train_test_split(X_remoq,y_remoq, test_size=0.5, stratify=y_remoq,random_state=42)\n"
   ]
  },
  {
   "cell_type": "markdown",
   "metadata": {},
   "source": [
    "## Splitting data for G,8 case"
   ]
  },
  {
   "cell_type": "code",
   "execution_count": 7,
   "metadata": {},
   "outputs": [],
   "source": [
    "# In the first step we will split the data in training and remaining dataset\n",
    "x_G8_train, X_remG8, y_G8_train, y_remG8 = train_test_split( list_G8,list_G8_category, train_size=0.8, random_state=42, stratify=list_G8_category)\n",
    "\n",
    "# Now since we want the valid and test size to be equal (10% each of overall data). \n",
    "# we have to define valid_size=0.5 (that is 50% of remaining data)\n",
    "test_size = 0.5\n",
    "X_validG8, x_G8_test, y_validG8, y_G8_test = train_test_split(X_remG8,y_remG8, test_size=0.5, stratify=y_remG8,random_state=42)"
   ]
  },
  {
   "cell_type": "markdown",
   "metadata": {},
   "source": [
    "### printing the length of processed images and the splitted data "
   ]
  },
  {
   "cell_type": "code",
   "execution_count": 8,
   "metadata": {},
   "outputs": [
    {
     "name": "stdout",
     "output_type": "stream",
     "text": [
      "Length of data o,q : 202\n",
      "------------------------------\n",
      "Length of train : 161\n",
      "------------------------------\n",
      "Length of test : 21\n",
      "------------------------------\n",
      "Length of valid : 20\n"
     ]
    }
   ],
   "source": [
    "#Case o and q\n",
    "\n",
    "print('Length of data o,q :',len(list_oq))\n",
    "print('------------------------------')\n",
    "\n",
    "print('Length of train :',len(x_oq_train))\n",
    "print('------------------------------')\n",
    "\n",
    "print('Length of test :',len(x_oq_test))\n",
    "print('------------------------------')\n",
    "\n",
    "print('Length of valid :',len(X_validoq))"
   ]
  },
  {
   "cell_type": "code",
   "execution_count": 9,
   "metadata": {},
   "outputs": [
    {
     "name": "stdout",
     "output_type": "stream",
     "text": [
      "Length of data G, 8  : 175\n",
      "------------------------------\n",
      "Length of train : 140\n",
      "------------------------------\n",
      "Length of test : 18\n",
      "------------------------------\n",
      "Length of valid : 17\n"
     ]
    }
   ],
   "source": [
    "#Case G and 8\n",
    "\n",
    "print('Length of data G, 8  :',len(list_G8))\n",
    "print('------------------------------')\n",
    "\n",
    "print('Length of train :',len(x_G8_train))\n",
    "print('------------------------------')\n",
    "\n",
    "print('Length of test :',len(x_G8_test))\n",
    "print('------------------------------')\n",
    "\n",
    "print('Length of valid :',len(X_validG8))"
   ]
  },
  {
   "cell_type": "markdown",
   "metadata": {},
   "source": [
    "# o and q Case"
   ]
  },
  {
   "cell_type": "code",
   "execution_count": 10,
   "metadata": {
    "scrolled": false
   },
   "outputs": [
    {
     "name": "stderr",
     "output_type": "stream",
     "text": [
      "C:\\Users\\zeroo\\anaconda3\\lib\\site-packages\\sklearn\\linear_model\\_logistic.py:814: ConvergenceWarning: lbfgs failed to converge (status=1):\n",
      "STOP: TOTAL NO. of ITERATIONS REACHED LIMIT.\n",
      "\n",
      "Increase the number of iterations (max_iter) or scale the data as shown in:\n",
      "    https://scikit-learn.org/stable/modules/preprocessing.html\n",
      "Please also refer to the documentation for alternative solver options:\n",
      "    https://scikit-learn.org/stable/modules/linear_model.html#logistic-regression\n",
      "  n_iter_i = _check_optimize_result(\n"
     ]
    }
   ],
   "source": [
    "# Building model\n",
    "\n",
    "logisticRegr = LogisticRegression()\n",
    "\n",
    "logisticRegr.fit(x_oq_train, y_oq_train)\n",
    "\n",
    "\n",
    "predictions_test = logisticRegr.predict(x_oq_test)\n",
    "predictions_train = logisticRegr.predict(x_oq_train)"
   ]
  },
  {
   "cell_type": "markdown",
   "metadata": {},
   "source": [
    "## Confusion matrix for testing\n",
    "##### The confusion matrix shows the ways in which the classification model confused when it makes predictions.“TP” for correctly predicted event values.“FP” for incorrectly predicted event values.“ TN” for correctly predicted no-event values.“FN ” for incorrectly predicted no-event values."
   ]
  },
  {
   "cell_type": "code",
   "execution_count": 11,
   "metadata": {
    "scrolled": false
   },
   "outputs": [
    {
     "name": "stdout",
     "output_type": "stream",
     "text": [
      "\n",
      " So here letter o is classified an o 15 times and 0 times letter q which is very good \n",
      "\n",
      " and letter q is classified o 4 times and 2 times letter q which it got confused with 2 cases with is quite bad compared to o \n"
     ]
    },
    {
     "data": {
      "image/png": "[encoded data removed]",
      "text/plain": [
       "<Figure size 1440x504 with 2 Axes>"
      ]
     },
     "metadata": {
      "needs_background": "light"
     },
     "output_type": "display_data"
    }
   ],
   "source": [
    "#Confusion matrix for testing\n",
    "\n",
    "plt.figure(figsize=[20, 7])\n",
    "plt.subplot(1,2,1)\n",
    "title = 'Confusion matrix / O = Label 0 , q = Label 1  '\n",
    "sns.heatmap(confusion_matrix(y_oq_test, predictions_test), annot=True, fmt='')\n",
    "plt.title(title)\n",
    "plt.xlabel('Predicted label');\n",
    "plt.ylabel('True label');\n",
    "\n",
    "\n",
    "print('\\n So here letter o is classified an o 15 times and 0 times letter q which is very good ')\n",
    "print('\\n and letter q is classified o 4 times and 2 times letter q which it got confused with 2 cases with is quite bad compared to o ')"
   ]
  },
  {
   "cell_type": "markdown",
   "metadata": {},
   "source": [
    "## Recall , precision , accuracy\n",
    "----------------------------------"
   ]
  },
  {
   "cell_type": "markdown",
   "metadata": {},
   "source": [
    "#### Machine learning model accuracy is the measurement used to determine which model is best at identifying relationships and patterns between variables in a dataset based on the input, or training data. The better a model can generalize to ‘unseen’ data, the better predictions and insights it can produce\n",
    "Accuracy is the number or correct predictions divided over the total number of predictions\n",
    "\n",
    " \n",
    "#### Precision: is the ratio of true positives to the total of the true positives and false positives. Precision looks to see how much junk positives got thrown in the mix. If there are no bad positives (those FPs), then the model had 100% precision. The more FPs that get into the mix, the uglier that precision is going to look.The recall rate is penalized whenever a false negative is predicted. Because the penalties in precision and recall are opposites, so too are the equations themselves. Precision and recall are the yin and yang of assessing the confusion matrix.\n",
    "Precision = TP/(TP + FP)\n",
    "\n",
    " \n",
    "#### Recall goes another route. Instead of looking at the number of false positives the model predicted, recall looks at the number of false negatives that were thrown into the prediction mix.\n",
    "Recall = TP/(TP + FN)"
   ]
  },
  {
   "cell_type": "code",
   "execution_count": 12,
   "metadata": {
    "scrolled": false
   },
   "outputs": [
    {
     "name": "stdout",
     "output_type": "stream",
     "text": [
      "Here the recall is excellenet as there is no FNs for class O  :   1.0\n",
      "Here the recall is very bad as there  are a lot of  FNs for class q:   0.3333333333333333\n",
      "Here the precision is quite bad as there are quite many FPs for class o :  0.7894736842105263\n",
      "Here the precision is excellenet as there is no FPs for class q :  1.0\n",
      "\n",
      "\n",
      "oq recall for testing data: 66.66666666666666\n",
      "It means that there are a lot of FNs when the model predicted which is bad\n",
      "\n",
      "\n",
      "oq precision for testing data: 89.47368421052632\n",
      "It means that means there are a lot of FPs when the model predicted which is bad\n",
      "\n",
      "\n",
      "oq accuracy for testing data: 80.95238095238095\n",
      "It means that there many of TPs and TNs but not that enough which is bad \n"
     ]
    }
   ],
   "source": [
    "equation_test_oq = confusion_matrix(y_oq_test, predictions_test)\n",
    "\n",
    "recall_test_oq = np.diag(equation_test_oq) / np.sum(equation_test_oq, axis = 1)\n",
    "recall_test_oq[np.isnan(recall_test_oq)] = 0\n",
    "\n",
    "precision_test_oq = np.diag(equation_test_oq) / np.sum(equation_test_oq, axis = 0)\n",
    "precision_test_oq[np.isnan(precision_test_oq)] = 0\n",
    "\n",
    "accur_test_oq= sum(np.diag(equation_test_oq))/len(x_oq_test)\n",
    "\n",
    "recall_testoq= sum(recall_test_oq)/2\n",
    "precision_testoq= sum(precision_test_oq)/2\n",
    "\n",
    "\n",
    "print('Here the recall is excellenet as there is no FNs for class O  :  ',recall_test_oq[0])\n",
    "print('Here the recall is very bad as there  are a lot of  FNs for class q:  ',recall_test_oq[1])\n",
    "print('Here the precision is quite bad as there are quite many FPs for class o : ' , precision_test_oq[0])\n",
    "print('Here the precision is excellenet as there is no FPs for class q : ', precision_test_oq[1])\n",
    "\n",
    "\n",
    "\n",
    "print('\\n')\n",
    "\n",
    "print('oq recall for testing data:',recall_testoq*100)\n",
    "print('It means that there are a lot of FNs when the model predicted which is bad')\n",
    "print('\\n')\n",
    "\n",
    "print('oq precision for testing data:',precision_testoq*100)\n",
    "print('It means that means there are a lot of FPs when the model predicted which is bad')\n",
    "print('\\n')\n",
    "\n",
    "print('oq accuracy for testing data:',accur_test_oq*100)\n",
    "print('It means that there many of TPs and TNs but not that enough which is bad ')\n"
   ]
  },
  {
   "cell_type": "markdown",
   "metadata": {},
   "source": [
    "### printing roc curve and accuracy (testing)\n",
    "\n",
    "An ROC curve  is a graph showing the performance of a classification model at all classification thresholds. This curve plots two parameters:\n",
    "\n",
    "True Positive Rate - False Positive Rate\n",
    "\n",
    "The higher the AUC, the better the performance of the model at distinguishing between the positive and negative classes"
   ]
  },
  {
   "cell_type": "code",
   "execution_count": 13,
   "metadata": {},
   "outputs": [
    {
     "name": "stdout",
     "output_type": "stream",
     "text": [
      "\n",
      " here the auc = 59% which tells the model is bad at distinguishing between the positive and negative classes  \n"
     ]
    },
    {
     "name": "stderr",
     "output_type": "stream",
     "text": [
      "C:\\Users\\zeroo\\anaconda3\\lib\\site-packages\\sklearn\\utils\\deprecation.py:87: FutureWarning: Function plot_roc_curve is deprecated; Function `plot_roc_curve` is deprecated in 1.0 and will be removed in 1.2. Use one of the class methods: RocCurveDisplay.from_predictions or RocCurveDisplay.from_estimator.\n",
      "  warnings.warn(msg, category=FutureWarning)\n"
     ]
    },
    {
     "data": {
      "image/png": "[encoded data removed]",
      "text/plain": [
       "<Figure size 432x288 with 1 Axes>"
      ]
     },
     "metadata": {
      "needs_background": "light"
     },
     "output_type": "display_data"
    }
   ],
   "source": [
    "disp=plot_roc_curve(logisticRegr,x_oq_test,y_oq_test)\n",
    "\n",
    "print('\\n here the auc = 59% which tells the model is bad at distinguishing between the positive and negative classes  ')"
   ]
  },
  {
   "cell_type": "code",
   "execution_count": 14,
   "metadata": {},
   "outputs": [
    {
     "name": "stdout",
     "output_type": "stream",
     "text": [
      "accuracy for testing data which is quite bad : 80.95238095238095\n"
     ]
    }
   ],
   "source": [
    "#Printing accuracy\n",
    "\n",
    "print('accuracy for testing data which is quite bad :',accuracy_score(y_oq_test, predictions_test)*100)"
   ]
  },
  {
   "cell_type": "markdown",
   "metadata": {},
   "source": [
    "# Confusion matrix for training "
   ]
  },
  {
   "cell_type": "code",
   "execution_count": 15,
   "metadata": {
    "scrolled": false
   },
   "outputs": [
    {
     "name": "stdout",
     "output_type": "stream",
     "text": [
      "\n",
      " here letter o is classified an o 118 times and 0 times letter q which is good \n",
      "\n",
      " and letter q is classified o 2 times ,and 41 times letter q which is quite good compared to the testing case \n"
     ]
    },
    {
     "data": {
      "image/png": "[encoded data removed]",
      "text/plain": [
       "<Figure size 1440x504 with 2 Axes>"
      ]
     },
     "metadata": {
      "needs_background": "light"
     },
     "output_type": "display_data"
    }
   ],
   "source": [
    "#Confusion matrix for training\n",
    "\n",
    "plt.figure(figsize=[20, 7])\n",
    "plt.subplot(1,2,1)\n",
    "title = 'Confusion matrix '\n",
    "sns.heatmap(confusion_matrix(y_oq_train, predictions_train), annot=True, fmt='')\n",
    "plt.title(title)\n",
    "plt.xlabel('Predicted label');\n",
    "plt.ylabel('True label');\n",
    "\n",
    "print('\\n here letter o is classified an o 118 times and 0 times letter q which is good ')\n",
    "print('\\n and letter q is classified o 2 times ,and 41 times letter q which is quite good compared to the testing case ')"
   ]
  },
  {
   "cell_type": "markdown",
   "metadata": {},
   "source": [
    "## Recall , precision , accuracy "
   ]
  },
  {
   "cell_type": "code",
   "execution_count": 16,
   "metadata": {},
   "outputs": [
    {
     "name": "stdout",
     "output_type": "stream",
     "text": [
      "Here the recall is excellenet as there is no FNs for class O  :   1.0\n",
      "Here the recall is quite good as there  are few FNs for class q:   0.9534883720930233\n",
      "Here the precision is good as there are quite few FPs for class o :  0.9833333333333333\n",
      "Here the precision is excellenet as there is no FPs for class q :  1.0\n",
      "\n",
      "\n",
      "o,q recall for training data: 97.67441860465115\n",
      "It means that there are few FNs when the model predicted which good\n",
      "\n",
      "\n",
      "o,q precision for training data: 99.16666666666667\n",
      "It means that means there are very few FPs when the model predicted which is very good \n",
      "\n",
      "\n",
      "o,q accuracy for training data: 98.75776397515527\n",
      "It means that there a lot of TP and TN which is very good but not excellent \n",
      "----------------------------------------------\n"
     ]
    }
   ],
   "source": [
    "equation_train_oq = confusion_matrix(y_oq_train, predictions_train)\n",
    "\n",
    "recall_train_oq = np.diag(equation_train_oq) / np.sum(equation_train_oq, axis = 1)\n",
    "precision_train_oq = np.diag(equation_train_oq) / np.sum(equation_train_oq, axis = 0)\n",
    "accur_train_oq= sum(np.diag(equation_train_oq))/len(x_oq_train)\n",
    "\n",
    "recall_trainoq= sum(recall_train_oq)/2\n",
    "precision_trainoq= sum(precision_train_oq)/2\n",
    "\n",
    "\n",
    "print('Here the recall is excellenet as there is no FNs for class O  :  ',recall_train_oq[0])\n",
    "print('Here the recall is quite good as there  are few FNs for class q:  ',recall_train_oq[1])\n",
    "print('Here the precision is good as there are quite few FPs for class o : ' , precision_train_oq[0])\n",
    "print('Here the precision is excellenet as there is no FPs for class q : ', precision_train_oq[1])\n",
    "print('\\n')\n",
    "\n",
    "\n",
    "print('o,q recall for training data:',recall_trainoq*100)\n",
    "print('It means that there are few FNs when the model predicted which good')\n",
    "print('\\n')\n",
    "\n",
    "print('o,q precision for training data:',precision_trainoq*100)\n",
    "print('It means that means there are very few FPs when the model predicted which is very good ')\n",
    "print('\\n')\n",
    "\n",
    "print('o,q accuracy for training data:',accur_train_oq*100)\n",
    "print('It means that there a lot of TP and TN which is very good but not excellent ')\n",
    "\n",
    "print('----------------------------------------------')\n"
   ]
  },
  {
   "cell_type": "markdown",
   "metadata": {},
   "source": [
    "### printing roc curve and accuracy (training)"
   ]
  },
  {
   "cell_type": "code",
   "execution_count": 17,
   "metadata": {},
   "outputs": [
    {
     "name": "stdout",
     "output_type": "stream",
     "text": [
      "\n",
      " here the auc = 100% which the model excellent at distinguishing between the positive and negative classes \n"
     ]
    },
    {
     "name": "stderr",
     "output_type": "stream",
     "text": [
      "C:\\Users\\zeroo\\anaconda3\\lib\\site-packages\\sklearn\\utils\\deprecation.py:87: FutureWarning: Function plot_roc_curve is deprecated; Function `plot_roc_curve` is deprecated in 1.0 and will be removed in 1.2. Use one of the class methods: RocCurveDisplay.from_predictions or RocCurveDisplay.from_estimator.\n",
      "  warnings.warn(msg, category=FutureWarning)\n"
     ]
    },
    {
     "data": {
      "image/png": "[encoded data removed]",
      "text/plain": [
       "<Figure size 432x288 with 1 Axes>"
      ]
     },
     "metadata": {
      "needs_background": "light"
     },
     "output_type": "display_data"
    }
   ],
   "source": [
    "\n",
    "#Roc curve\n",
    "\n",
    "disp=plot_roc_curve(logisticRegr,x_oq_train,y_oq_train)\n",
    "\n",
    "print('\\n here the auc = 100% which the model excellent at distinguishing between the positive and negative classes ')"
   ]
  },
  {
   "cell_type": "code",
   "execution_count": 18,
   "metadata": {},
   "outputs": [
    {
     "name": "stdout",
     "output_type": "stream",
     "text": [
      "accuracy for training data which is good : 98.75776397515527\n"
     ]
    }
   ],
   "source": [
    "#Printing accuracy\n",
    "\n",
    "print('accuracy for training data which is good :',accuracy_score(y_oq_train, predictions_train)*100)"
   ]
  },
  {
   "cell_type": "markdown",
   "metadata": {},
   "source": [
    "# Case G and 8 :"
   ]
  },
  {
   "cell_type": "code",
   "execution_count": 19,
   "metadata": {},
   "outputs": [
    {
     "name": "stderr",
     "output_type": "stream",
     "text": [
      "C:\\Users\\zeroo\\anaconda3\\lib\\site-packages\\sklearn\\linear_model\\_logistic.py:814: ConvergenceWarning: lbfgs failed to converge (status=1):\n",
      "STOP: TOTAL NO. of ITERATIONS REACHED LIMIT.\n",
      "\n",
      "Increase the number of iterations (max_iter) or scale the data as shown in:\n",
      "    https://scikit-learn.org/stable/modules/preprocessing.html\n",
      "Please also refer to the documentation for alternative solver options:\n",
      "    https://scikit-learn.org/stable/modules/linear_model.html#logistic-regression\n",
      "  n_iter_i = _check_optimize_result(\n"
     ]
    }
   ],
   "source": [
    "# all parameters not specified are set to their defaults\n",
    "logisticRegr = LogisticRegression()\n",
    "\n",
    "logisticRegr.fit(x_G8_train, y_G8_train)\n",
    "\n",
    "\n",
    "predictions_test_g8 = logisticRegr.predict(x_G8_test)\n",
    "predictions_train_g8 = logisticRegr.predict(x_G8_train)"
   ]
  },
  {
   "cell_type": "markdown",
   "metadata": {},
   "source": [
    "## Confusion matrix for testing G,8"
   ]
  },
  {
   "cell_type": "code",
   "execution_count": 20,
   "metadata": {},
   "outputs": [
    {
     "name": "stdout",
     "output_type": "stream",
     "text": [
      "\n",
      " here letter G is classified an G 14 times and 1 times digit 8 which is quite good \n",
      "\n",
      " and digit 8 is classified G 3 times and 0 times digit 8 which it got confused and this is very bad  \n"
     ]
    },
    {
     "data": {
      "image/png": "[encoded data removed]",
      "text/plain": [
       "<Figure size 1440x504 with 2 Axes>"
      ]
     },
     "metadata": {
      "needs_background": "light"
     },
     "output_type": "display_data"
    }
   ],
   "source": [
    "#Confusion matrix for testing\n",
    "\n",
    "plt.figure(figsize=[20, 7])\n",
    "plt.subplot(1,2,1)\n",
    "title = 'Confusion matrix / G = Label 0 , 8 = Label 1 '\n",
    "sns.heatmap(confusion_matrix(y_G8_test, predictions_test_g8), annot=True, fmt='')\n",
    "plt.title(title)\n",
    "plt.xlabel('Predicted label');\n",
    "plt.ylabel('True label');\n",
    "#G = Label 0 , 8 = Label 1\n",
    "print('\\n here letter G is classified an G 14 times and 1 times digit 8 which is quite good ')\n",
    "print('\\n and digit 8 is classified G 3 times and 0 times digit 8 which it got confused and this is very bad  ')"
   ]
  },
  {
   "cell_type": "markdown",
   "metadata": {},
   "source": [
    "## Recall , precision , accuracy "
   ]
  },
  {
   "cell_type": "code",
   "execution_count": 21,
   "metadata": {},
   "outputs": [
    {
     "name": "stdout",
     "output_type": "stream",
     "text": [
      "Here the recall is quite good as there are quite many FNs for class O  :   0.9333333333333333\n",
      "Here the recall is the worst case not very bad only as there are full ofFNs for class q:   0.0\n",
      "Here the precision is quite bad as there are many FPs for class o :  0.8235294117647058\n",
      "Here the precision is the worst as there are full of FPs for class q :  0.0\n",
      "\n",
      "\n",
      "G,8 recall for testing data: 46.666666666666664\n",
      "It means that there are a lot of FNs when the model predicted which is very bad\n",
      "\n",
      "\n",
      "G,8 precision for testing data: 41.17647058823529\n",
      "It means that means there are a lot of FPs when the model predicted which is very bad\n",
      "\n",
      "\n",
      "G,8 accuracy for testing data: 77.77777777777779\n",
      "It means that there few of TPs and TNs  which is bad \n"
     ]
    }
   ],
   "source": [
    "equation_test_G8 = confusion_matrix(y_G8_test, predictions_test_g8)\n",
    "\n",
    "recall_test_G8 = np.diag(equation_test_G8) / np.sum(equation_test_G8, axis = 1)\n",
    "recall_test_G8[np.isnan(recall_test_G8)] = 0\n",
    "\n",
    "precision_test_G8 = np.diag(equation_test_G8) / np.sum(equation_test_G8, axis = 0)\n",
    "precision_test_G8[np.isnan(precision_test_G8)] = 0\n",
    "\n",
    "accur_test_G8= sum(np.diag(equation_test_G8))/len(x_G8_test)\n",
    "\n",
    "recall_testG8= sum(recall_test_G8)/2\n",
    "precision_testG8= sum(precision_test_G8)/2\n",
    "\n",
    "\n",
    "print('Here the recall is quite good as there are quite many FNs for class O  :  ',recall_test_G8[0])\n",
    "print('Here the recall is the worst case not very bad only as there are full ofFNs for class q:  ',recall_test_G8[1])\n",
    "print('Here the precision is quite bad as there are many FPs for class o : ' , precision_test_G8[0])\n",
    "print('Here the precision is the worst as there are full of FPs for class q : ', precision_test_G8[1])\n",
    "\n",
    "print('\\n')\n",
    "\n",
    "\n",
    "\n",
    "print('G,8 recall for testing data:',recall_testG8*100)\n",
    "print('It means that there are a lot of FNs when the model predicted which is very bad')\n",
    "print('\\n')\n",
    "\n",
    "print('G,8 precision for testing data:',precision_testG8*100)\n",
    "print('It means that means there are a lot of FPs when the model predicted which is very bad')\n",
    "print('\\n')\n",
    "\n",
    "print('G,8 accuracy for testing data:',accur_test_G8*100)\n",
    "print('It means that there few of TPs and TNs  which is bad ')\n",
    "\n"
   ]
  },
  {
   "cell_type": "markdown",
   "metadata": {},
   "source": [
    "### printing roc curve and accuracy (testing)"
   ]
  },
  {
   "cell_type": "code",
   "execution_count": 22,
   "metadata": {},
   "outputs": [
    {
     "name": "stdout",
     "output_type": "stream",
     "text": [
      "\n",
      " here the auc = 33% which the model is very bad at distinguishing between the positive and negative classes  \n"
     ]
    },
    {
     "name": "stderr",
     "output_type": "stream",
     "text": [
      "C:\\Users\\zeroo\\anaconda3\\lib\\site-packages\\sklearn\\utils\\deprecation.py:87: FutureWarning: Function plot_roc_curve is deprecated; Function `plot_roc_curve` is deprecated in 1.0 and will be removed in 1.2. Use one of the class methods: RocCurveDisplay.from_predictions or RocCurveDisplay.from_estimator.\n",
      "  warnings.warn(msg, category=FutureWarning)\n"
     ]
    },
    {
     "data": {
      "image/png": "[encoded data removed]",
      "text/plain": [
       "<Figure size 432x288 with 1 Axes>"
      ]
     },
     "metadata": {
      "needs_background": "light"
     },
     "output_type": "display_data"
    }
   ],
   "source": [
    "\n",
    "plot_roc_curve(logisticRegr, x_G8_test, y_G8_test)\n",
    "\n",
    "print('\\n here the auc = 33% which the model is very bad at distinguishing between the positive and negative classes  ')"
   ]
  },
  {
   "cell_type": "code",
   "execution_count": 23,
   "metadata": {},
   "outputs": [
    {
     "name": "stdout",
     "output_type": "stream",
     "text": [
      "accuracy for testing data which is bad :   77.77777777777779\n"
     ]
    }
   ],
   "source": [
    "\n",
    "#Printing accuracy\n",
    "print('accuracy for testing data which is bad :  ',accuracy_score(y_G8_test, predictions_test_g8)*100)"
   ]
  },
  {
   "cell_type": "markdown",
   "metadata": {},
   "source": [
    "## Confusion matrix for training G,8"
   ]
  },
  {
   "cell_type": "code",
   "execution_count": 24,
   "metadata": {},
   "outputs": [
    {
     "name": "stdout",
     "output_type": "stream",
     "text": [
      "\n",
      " here letter G is classified G 114 times and 0 times digit 8 which is very good \n",
      "\n",
      " and digit 8 is classified G 4 times and 22 times digit 8 which it got confused and this is quite bad  \n"
     ]
    },
    {
     "data": {
      "image/png": "[encoded data removed]",
      "text/plain": [
       "<Figure size 1440x504 with 2 Axes>"
      ]
     },
     "metadata": {
      "needs_background": "light"
     },
     "output_type": "display_data"
    }
   ],
   "source": [
    "#Confusion matrix for testing\n",
    "\n",
    "plt.figure(figsize=[20, 7])\n",
    "plt.subplot(1,2,1)\n",
    "title = 'Confusion matrix '\n",
    "sns.heatmap(confusion_matrix(y_G8_train, predictions_train_g8), annot=True, fmt='')\n",
    "plt.title(title)\n",
    "plt.xlabel('Predicted label');\n",
    "plt.ylabel('True label');\n",
    "\n",
    "print('\\n here letter G is classified G 114 times and 0 times digit 8 which is very good ')\n",
    "print('\\n and digit 8 is classified G 4 times and 22 times digit 8 which it got confused and this is quite bad  ')\n"
   ]
  },
  {
   "cell_type": "markdown",
   "metadata": {},
   "source": [
    "## Recall , precision , accuracy "
   ]
  },
  {
   "cell_type": "code",
   "execution_count": 25,
   "metadata": {},
   "outputs": [
    {
     "name": "stdout",
     "output_type": "stream",
     "text": [
      "Here the recall is excellenet as there is no FNs for class O  :   1.0\n",
      "Here the recall is bad as there are many FNs for class q:   0.8461538461538461\n",
      "Here the precision is good as there are quite few FPs for class o :  0.9661016949152542\n",
      "Here the precision is excellenet as there is no FPs for class q :  1.0\n",
      "\n",
      "\n",
      "G,8 recall for training data: 92.3076923076923\n",
      "It means that there are few FNs when the model predicted which quite good\n",
      "\n",
      "\n",
      "G,8 precision for training data: 98.30508474576271\n",
      "It means that means there are very few FPs when the model predicted which is very good \n",
      "\n",
      "\n",
      " G,8 accuracy for training data: 97.14285714285714\n",
      "It means that there a lot of TP and TN which is very good but not excellent \n",
      "----------------------------------------------\n"
     ]
    }
   ],
   "source": [
    "equation_train_G8 = confusion_matrix(y_G8_train, predictions_train_g8)\n",
    "\n",
    "recall_train_G8 = np.diag(equation_train_G8) / np.sum(equation_train_G8, axis = 1)\n",
    "precision_train_G8 = np.diag(equation_train_G8) / np.sum(equation_train_G8, axis = 0)\n",
    "accur_train_G8= sum(np.diag(equation_train_G8))/len(x_G8_train)\n",
    "\n",
    "recall_trainG8= sum(recall_train_G8)/2\n",
    "precision_trainG8= sum(precision_train_G8)/2\n",
    "\n",
    "\n",
    "print('Here the recall is excellenet as there is no FNs for class O  :  ',recall_train_G8[0])\n",
    "print('Here the recall is bad as there are many FNs for class q:  ',recall_train_G8[1])\n",
    "print('Here the precision is good as there are quite few FPs for class o : ' , precision_train_G8[0])\n",
    "print('Here the precision is excellenet as there is no FPs for class q : ', precision_train_G8[1])\n",
    "print('\\n')\n",
    "\n",
    "\n",
    "print('G,8 recall for training data:',recall_trainG8*100)\n",
    "print('It means that there are few FNs when the model predicted which quite good')\n",
    "print('\\n')\n",
    "\n",
    "print('G,8 precision for training data:',precision_trainG8*100)\n",
    "print('It means that means there are very few FPs when the model predicted which is very good ')\n",
    "print('\\n')\n",
    "\n",
    "print(' G,8 accuracy for training data:',accur_train_G8*100)\n",
    "print('It means that there a lot of TP and TN which is very good but not excellent ')\n",
    "\n",
    "print('----------------------------------------------')\n"
   ]
  },
  {
   "cell_type": "markdown",
   "metadata": {},
   "source": [
    "### printing roc curve and accuracy (training)"
   ]
  },
  {
   "cell_type": "code",
   "execution_count": 26,
   "metadata": {},
   "outputs": [
    {
     "name": "stdout",
     "output_type": "stream",
     "text": [
      "\n",
      " here the auc = 100% which the model excellent at distinguishing between the positive and negative classes  \n"
     ]
    },
    {
     "name": "stderr",
     "output_type": "stream",
     "text": [
      "C:\\Users\\zeroo\\anaconda3\\lib\\site-packages\\sklearn\\utils\\deprecation.py:87: FutureWarning: Function plot_roc_curve is deprecated; Function `plot_roc_curve` is deprecated in 1.0 and will be removed in 1.2. Use one of the class methods: RocCurveDisplay.from_predictions or RocCurveDisplay.from_estimator.\n",
      "  warnings.warn(msg, category=FutureWarning)\n"
     ]
    },
    {
     "data": {
      "image/png": "[encoded data removed]",
      "text/plain": [
       "<Figure size 432x288 with 1 Axes>"
      ]
     },
     "metadata": {
      "needs_background": "light"
     },
     "output_type": "display_data"
    }
   ],
   "source": [
    "\n",
    "#Roc curve\n",
    "\n",
    "plot_roc_curve(logisticRegr, x_G8_train, y_G8_train)\n",
    "\n",
    "print('\\n here the auc = 100% which the model excellent at distinguishing between the positive and negative classes  ')"
   ]
  },
  {
   "cell_type": "code",
   "execution_count": 27,
   "metadata": {},
   "outputs": [
    {
     "name": "stdout",
     "output_type": "stream",
     "text": [
      "accuracy for training data which is very good :   97.14285714285714\n"
     ]
    }
   ],
   "source": [
    "\n",
    "#Printing accuracy\n",
    "\n",
    "print('accuracy for training data which is very good :  ',accuracy_score(y_G8_train, predictions_train_g8)*100)"
   ]
  },
  {
   "cell_type": "markdown",
   "metadata": {},
   "source": [
    "# -------------------------------------------------------------------------------------------------------------"
   ]
  },
  {
   "cell_type": "markdown",
   "metadata": {},
   "source": [
    "# Multiclass Classifier Case\n",
    "\n",
    "Label 0 = 8 , 1 = G , 2 = o , 3 = q"
   ]
  },
  {
   "cell_type": "code",
   "execution_count": 28,
   "metadata": {},
   "outputs": [],
   "source": [
    "#Preparing label for multiclass\n",
    "\n",
    "ymul = []\n",
    "for f in listOfFiles:\n",
    "    if 'Sample009' in f:\n",
    "        ymul.append('8')\n",
    "    if 'Sample017' in f:\n",
    "        ymul.append('G')\n",
    "    if 'Sample051' in f:\n",
    "        ymul.append('o')\n",
    "    if 'Sample053' in f:\n",
    "        ymul.append('q')"
   ]
  },
  {
   "cell_type": "markdown",
   "metadata": {},
   "source": [
    "## Splitting data for multiclass"
   ]
  },
  {
   "cell_type": "code",
   "execution_count": 29,
   "metadata": {},
   "outputs": [],
   "source": [
    "# In the first step we will split the data in training and remaining dataset\n",
    "X_train, X_rem_mul, y_train, y_rem_mul = train_test_split(processed_imgs,ymul, train_size=0.8, random_state=42, stratify=ymul)\n",
    "\n",
    "# Now since we want the valid and test size to be equal (10% each of overall data). \n",
    "# we have to define valid_size=0.5 (that is 50% of remaining data)\n",
    "test_size = 0.5\n",
    "X_valid, X_test, y_valid, y_test = train_test_split(X_rem_mul,y_rem_mul, test_size=0.5, stratify=y_rem_mul,random_state=42)"
   ]
  },
  {
   "cell_type": "code",
   "execution_count": 30,
   "metadata": {
    "scrolled": true
   },
   "outputs": [
    {
     "name": "stderr",
     "output_type": "stream",
     "text": [
      "C:\\Users\\zeroo\\anaconda3\\lib\\site-packages\\sklearn\\linear_model\\_logistic.py:814: ConvergenceWarning: lbfgs failed to converge (status=1):\n",
      "STOP: TOTAL NO. of ITERATIONS REACHED LIMIT.\n",
      "\n",
      "Increase the number of iterations (max_iter) or scale the data as shown in:\n",
      "    https://scikit-learn.org/stable/modules/preprocessing.html\n",
      "Please also refer to the documentation for alternative solver options:\n",
      "    https://scikit-learn.org/stable/modules/linear_model.html#logistic-regression\n",
      "  n_iter_i = _check_optimize_result(\n"
     ]
    }
   ],
   "source": [
    "#for Multiclass\n",
    "\n",
    "# all parameters not specified are set to their defaults\n",
    "logisticRegr = LogisticRegression()\n",
    "\n",
    "logisticRegr.fit(X_train, y_train)\n",
    "\n",
    "\n",
    "y_multiclass_train = logisticRegr.predict(X_train)\n",
    "y_multiclass_test = logisticRegr.predict(X_test)\n"
   ]
  },
  {
   "cell_type": "markdown",
   "metadata": {},
   "source": [
    "### Printing the length"
   ]
  },
  {
   "cell_type": "code",
   "execution_count": 31,
   "metadata": {
    "scrolled": true
   },
   "outputs": [
    {
     "name": "stdout",
     "output_type": "stream",
     "text": [
      "Length of data : 377\n",
      "------------------------------\n",
      "Length of X_train : 301\n",
      "------------------------------\n",
      "Length of X_test : 38\n",
      "------------------------------\n",
      "Length of X_valid : 38\n"
     ]
    }
   ],
   "source": [
    "print('Length of data :',len(processed_imgs))\n",
    "print('------------------------------')\n",
    "\n",
    "print('Length of X_train :',len(X_train))\n",
    "print('------------------------------')\n",
    "\n",
    "print('Length of X_test :',len(X_test))\n",
    "print('------------------------------')\n",
    "\n",
    "print('Length of X_valid :',len(X_valid))"
   ]
  },
  {
   "cell_type": "markdown",
   "metadata": {},
   "source": [
    "## Testing's confusion matrix"
   ]
  },
  {
   "cell_type": "code",
   "execution_count": 32,
   "metadata": {
    "scrolled": false
   },
   "outputs": [
    {
     "name": "stdout",
     "output_type": "stream",
     "text": [
      "\n",
      " here digit 8 is classified 8 0 times , 0 times G , 3 times o and 0 times q which is very bad\n",
      "\n",
      " here G is classified 8 2 times , 5 times G , 8 times o and 0 times q which is bad\n",
      "\n",
      " here O is classified 8 1 times , 5 times G , 9 times o and 0 times q which is quite bad but better than others\n",
      "\n",
      " here q is classified 8 3 times , 0 times G , 2 times o and 0 times q which is very bad\n"
     ]
    },
    {
     "data": {
      "image/png": "[encoded data removed]",
      "text/plain": [
       "<Figure size 1440x504 with 2 Axes>"
      ]
     },
     "metadata": {
      "needs_background": "light"
     },
     "output_type": "display_data"
    }
   ],
   "source": [
    "#Confusion matrix \n",
    "\n",
    "plt.figure(figsize=[20, 7])\n",
    "plt.subplot(1,2,1)\n",
    "title = 'Confusion matrix /  Label 0 = 8 , 1 = G , 2 = o , 3 = q '\n",
    "sns.heatmap(confusion_matrix(y_test, y_multiclass_test), annot=True, fmt='')\n",
    "plt.title(title)\n",
    "plt.xlabel('Predicted label');\n",
    "plt.ylabel('True label');\n",
    "\n",
    "#Label 0 = 8 , 1 = G , 2 = o , 3 = q\n",
    "\n",
    "print('\\n here digit 8 is classified 8 0 times , 0 times G , 3 times o and 0 times q which is very bad' )\n",
    "print('\\n here G is classified 8 2 times , 5 times G , 8 times o and 0 times q which is bad')\n",
    "print('\\n here O is classified 8 1 times , 5 times G , 9 times o and 0 times q which is quite bad but better than others')\n",
    "print('\\n here q is classified 8 3 times , 0 times G , 2 times o and 0 times q which is very bad')\n"
   ]
  },
  {
   "cell_type": "markdown",
   "metadata": {},
   "source": [
    "## Recall , precision , accuracy and F1-score\n",
    "\n",
    "\n",
    "#### F1-score : is a measure of a model’s accuracy on a dataset. It is used to evaluate binary classification systems, which classify examples into ‘positive’ or ‘negative’. But Accuracy is used when the True Positives and True negatives are more important while F1-score is used when the False Negatives and False Positives are crucial.\n",
    "\n",
    "F1-score (2 x precision x recall) / (precision+recall)"
   ]
  },
  {
   "cell_type": "code",
   "execution_count": 33,
   "metadata": {
    "scrolled": false
   },
   "outputs": [
    {
     "name": "stdout",
     "output_type": "stream",
     "text": [
      "Average recall for testing data: 23.333333333333332\n",
      "It means that there are a lot of FNs when the model predicted which is very bad\n",
      "\n",
      "\n",
      "Average precision for testing data: 22.72727272727273\n",
      "It means that means there are a lot of FPs when the model predicted which is very bad but FNs is more worse\n",
      "\n",
      "\n",
      "f1_Score for testing data: 22.162162162162165\n",
      "It means that it is very bad as it is harmonic mean between precision and recall\n",
      "\n",
      "\n",
      "accuracy for testing data: 36.84210526315789\n",
      "It means that there few of TP and TN which is very bad \n"
     ]
    },
    {
     "name": "stderr",
     "output_type": "stream",
     "text": [
      "<ipython-input-33-37cc3b048d59>:6: RuntimeWarning: invalid value encountered in true_divide\n",
      "  precision_test = np.diag(equation_test) / np.sum(equation_test, axis = 0)\n",
      "<ipython-input-33-37cc3b048d59>:9: RuntimeWarning: invalid value encountered in true_divide\n",
      "  f1_Score_test=(2 * precision_test * recall_test) / (precision_test + recall_test)\n"
     ]
    }
   ],
   "source": [
    "equation_test = confusion_matrix(y_test, y_multiclass_test)\n",
    "\n",
    "recall_test = np.diag(equation_test) / np.sum(equation_test, axis = 1)\n",
    "recall_test[np.isnan(recall_test)] = 0\n",
    "\n",
    "precision_test = np.diag(equation_test) / np.sum(equation_test, axis = 0)\n",
    "precision_test[np.isnan(precision_test)] = 0\n",
    "\n",
    "f1_Score_test=(2 * precision_test * recall_test) / (precision_test + recall_test)\n",
    "f1_Score_test[np.isnan(f1_Score_test)] = 0\n",
    "\n",
    "accur_test= sum(np.diag(equation_test))/len(X_test)\n",
    "\n",
    "recall_avg_test= sum(recall_test)/4\n",
    "precision_avg_test= sum(precision_test)/4\n",
    "f1_avg_test= sum(f1_Score_test)/4\n",
    "\n",
    "print('Average recall for testing data:',recall_avg_test*100)\n",
    "print('It means that there are a lot of FNs when the model predicted which is very bad')\n",
    "print('\\n')\n",
    "\n",
    "print('Average precision for testing data:',precision_avg_test*100)\n",
    "print('It means that means there are a lot of FPs when the model predicted which is very bad but FNs is more worse')\n",
    "print('\\n')\n",
    "\n",
    "\n",
    "print('f1_Score for testing data:',f1_avg_test*100)\n",
    "print('It means that it is very bad as it is harmonic mean between precision and recall' )\n",
    "print('\\n')\n",
    "\n",
    "\n",
    "print('accuracy for testing data:',accur_test*100)\n",
    "print('It means that there few of TP and TN which is very bad ')\n",
    "\n"
   ]
  },
  {
   "cell_type": "markdown",
   "metadata": {},
   "source": [
    "## Defining function for plotting roc curve for multiclass"
   ]
  },
  {
   "cell_type": "code",
   "execution_count": 34,
   "metadata": {},
   "outputs": [],
   "source": [
    "def plot_roc(clf, x, y, n_classes, figsize=(17, 6)):\n",
    "    y_score = clf.decision_function(x)\n",
    "\n",
    "    \n",
    "    fpr = dict()\n",
    "    tpr = dict()\n",
    "    roc_auc = dict()\n",
    "\n",
    "\n",
    "    y__dummies = pd.get_dummies(y, drop_first=False).values\n",
    "    for i in range(n_classes):\n",
    "        fpr[i], tpr[i], _ = roc_curve(y__dummies[:, i], y_score[:, i])\n",
    "        roc_auc[i] = auc(fpr[i], tpr[i])\n",
    "\n",
    "    # roc for each class\n",
    "    fig, ax = plt.subplots(figsize=figsize)\n",
    "    ax.plot([0, 1], [0, 1], 'k--')\n",
    "    ax.set_xlim([0.0, 1.0])\n",
    "    ax.set_ylim([0.0, 1.05])\n",
    "    ax.set_xlabel('False Positive Rate')\n",
    "    ax.set_ylabel('True Positive Rate')\n",
    "    ax.set_title('Receiver operating characteristic ')\n",
    "    for i in range(n_classes):\n",
    "        ax.plot(fpr[i], tpr[i], label='ROC curve (area = %0.2f) for label %i' % (roc_auc[i], i))\n",
    "    ax.legend(loc=\"best\")\n",
    "    ax.grid(alpha=.4)\n",
    "    sns.despine()\n",
    "    plt.show()"
   ]
  },
  {
   "cell_type": "markdown",
   "metadata": {},
   "source": [
    "### Printing accuracy and ROC for testing"
   ]
  },
  {
   "cell_type": "code",
   "execution_count": 35,
   "metadata": {},
   "outputs": [
    {
     "data": {
      "image/png": "[encoded data removed]",
      "text/plain": [
       "<Figure size 864x576 with 1 Axes>"
      ]
     },
     "metadata": {
      "needs_background": "light"
     },
     "output_type": "display_data"
    },
    {
     "name": "stdout",
     "output_type": "stream",
     "text": [
      "\n",
      " as shown the auc tells the model is quite bad at distinguishing between the positive and negative classes for label 8  \n",
      "\n",
      " as shown the auc tells the model is bad at distinguishing between the positive and negative classes for label G  \n",
      "\n",
      " as shown the auc tells the model is very bad at distinguishing between the positive and negative classes for label o  \n",
      "\n",
      " as shown the auc tells the model is so bad at distinguishing between the positive and negative classes for label q  \n"
     ]
    }
   ],
   "source": [
    "#Roc curve\n",
    "plot_roc(logisticRegr, X_test, y_test, n_classes=4, figsize=(12, 8))\n",
    "\n",
    "#Label 0 = 8 , 1 = G , 2 = o , 3 = q\n",
    "\n",
    "print('\\n as shown the auc tells the model is quite bad at distinguishing between the positive and negative classes for label 8  ')\n",
    "print('\\n as shown the auc tells the model is bad at distinguishing between the positive and negative classes for label G  ')\n",
    "print('\\n as shown the auc tells the model is very bad at distinguishing between the positive and negative classes for label o  ')\n",
    "print('\\n as shown the auc tells the model is so bad at distinguishing between the positive and negative classes for label q  ')\n"
   ]
  },
  {
   "cell_type": "code",
   "execution_count": 36,
   "metadata": {},
   "outputs": [
    {
     "name": "stdout",
     "output_type": "stream",
     "text": [
      "accuracy for testing data which is very bad :   36.84210526315789\n"
     ]
    }
   ],
   "source": [
    "#Printing accuracy\n",
    "\n",
    "print('accuracy for testing data which is very bad :  ',accuracy_score(y_test, y_multiclass_test)*100)"
   ]
  },
  {
   "cell_type": "markdown",
   "metadata": {},
   "source": [
    "## Training Confusion matrix"
   ]
  },
  {
   "cell_type": "code",
   "execution_count": 37,
   "metadata": {},
   "outputs": [
    {
     "name": "stdout",
     "output_type": "stream",
     "text": [
      "\n",
      " here digit 8 is classified 8 22 times , 1 times G , 3 times o and 0 times q which is quite good\n",
      "\n",
      " here G is classified 8 0 times , 109 times G , 5 times o and 0 times q which is good\n",
      "\n",
      " here O is classified 8 0 times , 4 times G , 114 times o and 0 times q which is good and better than others\n",
      "\n",
      " here q is classified 8 0 times , 1 times G , 1 times o and 41 times q which is quite good\n"
     ]
    },
    {
     "data": {
      "image/png": "[encoded data removed]",
      "text/plain": [
       "<Figure size 1440x504 with 2 Axes>"
      ]
     },
     "metadata": {
      "needs_background": "light"
     },
     "output_type": "display_data"
    }
   ],
   "source": [
    "#Confusion matrix \n",
    "\n",
    "plt.figure(figsize=[20, 7])\n",
    "plt.subplot(1,2,1)\n",
    "title = 'Confusion matrix for training '\n",
    "sns.heatmap(confusion_matrix(y_train, y_multiclass_train), annot=True, fmt='')\n",
    "plt.title(title)\n",
    "plt.xlabel('Predicted label');\n",
    "plt.ylabel('True label');\n",
    "\n",
    "print('\\n here digit 8 is classified 8 22 times , 1 times G , 3 times o and 0 times q which is quite good' )\n",
    "print('\\n here G is classified 8 0 times , 109 times G , 5 times o and 0 times q which is good')\n",
    "print('\\n here O is classified 8 0 times , 4 times G , 114 times o and 0 times q which is good and better than others')\n",
    "print('\\n here q is classified 8 0 times , 1 times G , 1 times o and 41 times q which is quite good')"
   ]
  },
  {
   "cell_type": "markdown",
   "metadata": {},
   "source": [
    "## Recall , precision , accuracy and F1-score"
   ]
  },
  {
   "cell_type": "code",
   "execution_count": 38,
   "metadata": {},
   "outputs": [
    {
     "name": "stdout",
     "output_type": "stream",
     "text": [
      "Average recall for training data : 93.04710660098291\n",
      "It means that there are few FNs when the model predicted which quite good\n",
      "\n",
      "\n",
      "Average precision for training data : 96.8663838812301\n",
      "It means that means there are few FPs when the model predicted which is good \n",
      "\n",
      "\n",
      "f1_Score for training data : 94.77200749114083\n",
      "It means that it is good as it is harmonic mean between precision and recall\n",
      "\n",
      "\n",
      "accuracy for training data : 95.01661129568106\n",
      "It means that there a lot of TP and TN which is good \n"
     ]
    }
   ],
   "source": [
    "equation_train = confusion_matrix(y_train, y_multiclass_train)\n",
    "\n",
    "recall_train = np.diag(equation_train) / np.sum(equation_train, axis = 1)\n",
    "recall_train[np.isnan(recall_train)] = 0\n",
    "\n",
    "precision_train = np.diag(equation_train) / np.sum(equation_train, axis = 0)\n",
    "precision_train[np.isnan(precision_train)] = 0\n",
    "\n",
    "f1_Score_train=(2 * precision_train * recall_train) / (precision_train + recall_train)\n",
    "f1_Score_train[np.isnan(f1_Score_train)] = 0\n",
    "\n",
    "accur_train= sum(np.diag(equation_train))/len(X_train)\n",
    "\n",
    "\n",
    "\n",
    "recall_avg_tra= sum(recall_train)/4\n",
    "precision_avg_tra= sum(precision_train)/4\n",
    "f1_avg_tra= sum(f1_Score_train)/4\n",
    "\n",
    "print('Average recall for training data :',recall_avg_tra*100)\n",
    "print('It means that there are few FNs when the model predicted which quite good')\n",
    "print('\\n')\n",
    "\n",
    "print('Average precision for training data :',precision_avg_tra*100)\n",
    "print('It means that means there are few FPs when the model predicted which is good ')\n",
    "print('\\n')\n",
    "\n",
    "print('f1_Score for training data :',f1_avg_tra*100)\n",
    "print('It means that it is good as it is harmonic mean between precision and recall' )\n",
    "print('\\n')\n",
    "\n",
    "print('accuracy for training data :',accur_train*100)\n",
    "print('It means that there a lot of TP and TN which is good ')\n",
    "\n"
   ]
  },
  {
   "cell_type": "markdown",
   "metadata": {},
   "source": [
    "### Printing accuracy and ROC for training"
   ]
  },
  {
   "cell_type": "code",
   "execution_count": 39,
   "metadata": {},
   "outputs": [
    {
     "data": {
      "image/png": "[encoded data removed]",
      "text/plain": [
       "<Figure size 864x576 with 1 Axes>"
      ]
     },
     "metadata": {
      "needs_background": "light"
     },
     "output_type": "display_data"
    },
    {
     "name": "stdout",
     "output_type": "stream",
     "text": [
      "\n",
      " as shown the auc tells the model is good at distinguishing between the positive and negative classes for label 8  \n",
      "\n",
      " as shown the auc tells the model is good at distinguishing between the positive and negative classes for label G  \n",
      "\n",
      " as shown the auc tells the model is good bad at distinguishing between the positive and negative classes for label o  \n",
      "\n",
      " as shown the auc tells the model is very good at distinguishing between the positive and negative classes for label q  \n"
     ]
    }
   ],
   "source": [
    "#roc curve \n",
    "plot_roc(logisticRegr, X_train, y_train, n_classes=4, figsize=(12, 8))\n",
    "\n",
    "print('\\n as shown the auc tells the model is good at distinguishing between the positive and negative classes for label 8  ')\n",
    "print('\\n as shown the auc tells the model is good at distinguishing between the positive and negative classes for label G  ')\n",
    "print('\\n as shown the auc tells the model is good bad at distinguishing between the positive and negative classes for label o  ')\n",
    "print('\\n as shown the auc tells the model is very good at distinguishing between the positive and negative classes for label q  ')"
   ]
  },
  {
   "cell_type": "code",
   "execution_count": 40,
   "metadata": {},
   "outputs": [
    {
     "name": "stdout",
     "output_type": "stream",
     "text": [
      "accuracy for training data which is good :   95.01661129568106\n"
     ]
    }
   ],
   "source": [
    "#Printing accuracy\n",
    "\n",
    "print('accuracy for training data which is good :  ', accuracy_score(y_train, y_multiclass_train)*100)"
   ]
  },
  {
   "cell_type": "markdown",
   "metadata": {},
   "source": [
    "## In the task the classifer did bad in the multiclass testing case ( acc = 36.84%) as there were 4 letters and maybe couldn't distinguish between G and 8 as they may look alike and also there is letter q will confuse it and between the G and O , q and 8 , also the quality will be a factor as after resizing it ,some images will lose quality. Furthermore, there are some photos in folders of the letters that are bad like letter o folder and also the folder of letter q has images look like digit 8 ( recall is 23.33 which means a lot of FNs which is very bad , Precision = 22.73 which mean a lot of FPs which is very bad and F1-score is 22.16 which is harmonic mean between precision and recall )"
   ]
  }
 ],
 "metadata": {
  "hide_input": false,
  "kernelspec": {
   "display_name": "Python 3",
   "language": "python",
   "name": "python3"
  },
  "language_info": {
   "codemirror_mode": {
    "name": "ipython",
    "version": 3
   },
   "file_extension": ".py",
   "mimetype": "text/x-python",
   "name": "python",
   "nbconvert_exporter": "python",
   "pygments_lexer": "ipython3",
   "version": "3.8.5"
  },
  "varInspector": {
   "cols": {
    "lenName": 16,
    "lenType": 16,
    "lenVar": 40
   },
   "kernels_config": {
    "python": {
     "delete_cmd_postfix": "",
     "delete_cmd_prefix": "del ",
     "library": "var_list.py",
     "varRefreshCmd": "print(var_dic_list())"
    },
    "r": {
     "delete_cmd_postfix": ") ",
     "delete_cmd_prefix": "rm(",
     "library": "var_list.r",
     "varRefreshCmd": "cat(var_dic_list()) "
    }
   },
   "types_to_exclude": [
    "module",
    "function",
    "builtin_function_or_method",
    "instance",
    "_Feature"
   ],
   "window_display": false
  }
 },
 "nbformat": 4,
 "nbformat_minor": 5
}
